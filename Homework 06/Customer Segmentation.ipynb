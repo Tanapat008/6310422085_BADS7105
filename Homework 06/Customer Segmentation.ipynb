{
 "cells": [
  {
   "cell_type": "code",
   "execution_count": 20,
   "metadata": {},
   "outputs": [],
   "source": [
    "import numpy as np \n",
    "import pandas as pd \n",
    "import seaborn as sns\n",
    "from sklearn import preprocessing\n",
    "from sklearn.linear_model import (LinearRegression, Ridge, Lasso)\n",
    "import matplotlib.pyplot as plt \n",
    "plt.rc(\"font\", size=14)\n",
    "import seaborn as sns\n",
    "sns.set(style=\"white\") #white background style for seaborn plots\n",
    "sns.set(style=\"whitegrid\", color_codes=True)\n",
    "\n",
    "import warnings\n",
    "warnings.simplefilter(action='ignore')\n",
    "\n",
    "from sklearn import metrics\n",
    "import time\n",
    "import json\n",
    "from sklearn.metrics import silhouette_samples, silhouette_score"
   ]
  },
  {
   "cell_type": "code",
   "execution_count": 2,
   "metadata": {},
   "outputs": [],
   "source": [
    "from sklearn.ensemble import RandomForestClassifier ,GradientBoostingClassifier\n",
    "from xgboost import XGBClassifier\n",
    "from sklearn.model_selection import GridSearchCV\n",
    "from sklearn.svm import SVC\n",
    "from sklearn.ensemble import VotingClassifier, BaggingClassifier, AdaBoostClassifier, \\\n",
    "    GradientBoostingClassifier\n",
    "from sklearn.metrics import roc_curve, roc_auc_score\n",
    "from sklearn.neighbors import KNeighborsClassifier\n",
    "from sklearn.pipeline import Pipeline\n",
    "from sklearn.linear_model import SGDClassifier\n",
    "from sklearn.tree import DecisionTreeClassifier\n",
    "from sklearn.model_selection import train_test_split, StratifiedKFold\n",
    "from sklearn.linear_model import LogisticRegression\n",
    "from sklearn.model_selection import cross_val_score"
   ]
  },
  {
   "cell_type": "code",
   "execution_count": 3,
   "metadata": {},
   "outputs": [
    {
     "data": {
      "text/html": [
       "<div>\n",
       "<style scoped>\n",
       "    .dataframe tbody tr th:only-of-type {\n",
       "        vertical-align: middle;\n",
       "    }\n",
       "\n",
       "    .dataframe tbody tr th {\n",
       "        vertical-align: top;\n",
       "    }\n",
       "\n",
       "    .dataframe thead th {\n",
       "        text-align: right;\n",
       "    }\n",
       "</style>\n",
       "<table border=\"1\" class=\"dataframe\">\n",
       "  <thead>\n",
       "    <tr style=\"text-align: right;\">\n",
       "      <th></th>\n",
       "      <th>SHOP_WEEK</th>\n",
       "      <th>SHOP_DATE</th>\n",
       "      <th>SHOP_WEEKDAY</th>\n",
       "      <th>SHOP_HOUR</th>\n",
       "      <th>QUANTITY</th>\n",
       "      <th>SPEND</th>\n",
       "      <th>PROD_CODE</th>\n",
       "      <th>PROD_CODE_10</th>\n",
       "      <th>PROD_CODE_20</th>\n",
       "      <th>PROD_CODE_30</th>\n",
       "      <th>...</th>\n",
       "      <th>CUST_PRICE_SENSITIVITY</th>\n",
       "      <th>CUST_LIFESTAGE</th>\n",
       "      <th>BASKET_ID</th>\n",
       "      <th>BASKET_SIZE</th>\n",
       "      <th>BASKET_PRICE_SENSITIVITY</th>\n",
       "      <th>BASKET_TYPE</th>\n",
       "      <th>BASKET_DOMINANT_MISSION</th>\n",
       "      <th>STORE_CODE</th>\n",
       "      <th>STORE_FORMAT</th>\n",
       "      <th>STORE_REGION</th>\n",
       "    </tr>\n",
       "  </thead>\n",
       "  <tbody>\n",
       "    <tr>\n",
       "      <th>0</th>\n",
       "      <td>200732</td>\n",
       "      <td>20071005</td>\n",
       "      <td>6</td>\n",
       "      <td>17</td>\n",
       "      <td>3</td>\n",
       "      <td>6.75</td>\n",
       "      <td>PRD0900001</td>\n",
       "      <td>CL00072</td>\n",
       "      <td>DEP00021</td>\n",
       "      <td>G00007</td>\n",
       "      <td>...</td>\n",
       "      <td>UM</td>\n",
       "      <td>YF</td>\n",
       "      <td>9.941080e+14</td>\n",
       "      <td>L</td>\n",
       "      <td>MM</td>\n",
       "      <td>Top Up</td>\n",
       "      <td>Grocery</td>\n",
       "      <td>STORE00001</td>\n",
       "      <td>LS</td>\n",
       "      <td>E02</td>\n",
       "    </tr>\n",
       "    <tr>\n",
       "      <th>1</th>\n",
       "      <td>200733</td>\n",
       "      <td>20071010</td>\n",
       "      <td>4</td>\n",
       "      <td>20</td>\n",
       "      <td>3</td>\n",
       "      <td>6.75</td>\n",
       "      <td>PRD0900001</td>\n",
       "      <td>CL00072</td>\n",
       "      <td>DEP00021</td>\n",
       "      <td>G00007</td>\n",
       "      <td>...</td>\n",
       "      <td>MM</td>\n",
       "      <td>OF</td>\n",
       "      <td>9.941080e+14</td>\n",
       "      <td>L</td>\n",
       "      <td>MM</td>\n",
       "      <td>Full Shop</td>\n",
       "      <td>Fresh</td>\n",
       "      <td>STORE00001</td>\n",
       "      <td>LS</td>\n",
       "      <td>E02</td>\n",
       "    </tr>\n",
       "    <tr>\n",
       "      <th>2</th>\n",
       "      <td>200741</td>\n",
       "      <td>20071209</td>\n",
       "      <td>1</td>\n",
       "      <td>11</td>\n",
       "      <td>1</td>\n",
       "      <td>2.25</td>\n",
       "      <td>PRD0900001</td>\n",
       "      <td>CL00072</td>\n",
       "      <td>DEP00021</td>\n",
       "      <td>G00007</td>\n",
       "      <td>...</td>\n",
       "      <td>MM</td>\n",
       "      <td>YF</td>\n",
       "      <td>9.941090e+14</td>\n",
       "      <td>L</td>\n",
       "      <td>MM</td>\n",
       "      <td>Full Shop</td>\n",
       "      <td>Grocery</td>\n",
       "      <td>STORE00001</td>\n",
       "      <td>LS</td>\n",
       "      <td>E02</td>\n",
       "    </tr>\n",
       "    <tr>\n",
       "      <th>3</th>\n",
       "      <td>200731</td>\n",
       "      <td>20070929</td>\n",
       "      <td>7</td>\n",
       "      <td>17</td>\n",
       "      <td>1</td>\n",
       "      <td>2.25</td>\n",
       "      <td>PRD0900001</td>\n",
       "      <td>CL00072</td>\n",
       "      <td>DEP00021</td>\n",
       "      <td>G00007</td>\n",
       "      <td>...</td>\n",
       "      <td>LA</td>\n",
       "      <td>OF</td>\n",
       "      <td>9.941080e+14</td>\n",
       "      <td>L</td>\n",
       "      <td>LA</td>\n",
       "      <td>Full Shop</td>\n",
       "      <td>Mixed</td>\n",
       "      <td>STORE00001</td>\n",
       "      <td>LS</td>\n",
       "      <td>E02</td>\n",
       "    </tr>\n",
       "    <tr>\n",
       "      <th>4</th>\n",
       "      <td>200737</td>\n",
       "      <td>20071110</td>\n",
       "      <td>7</td>\n",
       "      <td>14</td>\n",
       "      <td>3</td>\n",
       "      <td>6.75</td>\n",
       "      <td>PRD0900001</td>\n",
       "      <td>CL00072</td>\n",
       "      <td>DEP00021</td>\n",
       "      <td>G00007</td>\n",
       "      <td>...</td>\n",
       "      <td>NaN</td>\n",
       "      <td>NaN</td>\n",
       "      <td>9.941080e+14</td>\n",
       "      <td>L</td>\n",
       "      <td>MM</td>\n",
       "      <td>Full Shop</td>\n",
       "      <td>Fresh</td>\n",
       "      <td>STORE00001</td>\n",
       "      <td>LS</td>\n",
       "      <td>E02</td>\n",
       "    </tr>\n",
       "  </tbody>\n",
       "</table>\n",
       "<p>5 rows × 22 columns</p>\n",
       "</div>"
      ],
      "text/plain": [
       "   SHOP_WEEK  SHOP_DATE  SHOP_WEEKDAY  SHOP_HOUR  QUANTITY  SPEND   PROD_CODE  \\\n",
       "0     200732   20071005             6         17         3   6.75  PRD0900001   \n",
       "1     200733   20071010             4         20         3   6.75  PRD0900001   \n",
       "2     200741   20071209             1         11         1   2.25  PRD0900001   \n",
       "3     200731   20070929             7         17         1   2.25  PRD0900001   \n",
       "4     200737   20071110             7         14         3   6.75  PRD0900001   \n",
       "\n",
       "  PROD_CODE_10 PROD_CODE_20 PROD_CODE_30  ... CUST_PRICE_SENSITIVITY  \\\n",
       "0      CL00072     DEP00021       G00007  ...                     UM   \n",
       "1      CL00072     DEP00021       G00007  ...                     MM   \n",
       "2      CL00072     DEP00021       G00007  ...                     MM   \n",
       "3      CL00072     DEP00021       G00007  ...                     LA   \n",
       "4      CL00072     DEP00021       G00007  ...                    NaN   \n",
       "\n",
       "  CUST_LIFESTAGE     BASKET_ID BASKET_SIZE  BASKET_PRICE_SENSITIVITY  \\\n",
       "0             YF  9.941080e+14           L                        MM   \n",
       "1             OF  9.941080e+14           L                        MM   \n",
       "2             YF  9.941090e+14           L                        MM   \n",
       "3             OF  9.941080e+14           L                        LA   \n",
       "4            NaN  9.941080e+14           L                        MM   \n",
       "\n",
       "  BASKET_TYPE BASKET_DOMINANT_MISSION  STORE_CODE STORE_FORMAT STORE_REGION  \n",
       "0      Top Up                 Grocery  STORE00001           LS          E02  \n",
       "1   Full Shop                   Fresh  STORE00001           LS          E02  \n",
       "2   Full Shop                 Grocery  STORE00001           LS          E02  \n",
       "3   Full Shop                   Mixed  STORE00001           LS          E02  \n",
       "4   Full Shop                   Fresh  STORE00001           LS          E02  \n",
       "\n",
       "[5 rows x 22 columns]"
      ]
     },
     "execution_count": 3,
     "metadata": {},
     "output_type": "execute_result"
    }
   ],
   "source": [
    "data = pd.read_csv('Supermarket Data.csv')\n",
    "data.head()"
   ]
  },
  {
   "cell_type": "code",
   "execution_count": 4,
   "metadata": {},
   "outputs": [
    {
     "name": "stdout",
     "output_type": "stream",
     "text": [
      "<class 'pandas.core.frame.DataFrame'>\n",
      "RangeIndex: 956574 entries, 0 to 956573\n",
      "Data columns (total 22 columns):\n",
      " #   Column                    Non-Null Count   Dtype  \n",
      "---  ------                    --------------   -----  \n",
      " 0   SHOP_WEEK                 956574 non-null  int64  \n",
      " 1   SHOP_DATE                 956574 non-null  int64  \n",
      " 2   SHOP_WEEKDAY              956574 non-null  int64  \n",
      " 3   SHOP_HOUR                 956574 non-null  int64  \n",
      " 4   QUANTITY                  956574 non-null  int64  \n",
      " 5   SPEND                     956574 non-null  float64\n",
      " 6   PROD_CODE                 956574 non-null  object \n",
      " 7   PROD_CODE_10              956574 non-null  object \n",
      " 8   PROD_CODE_20              956574 non-null  object \n",
      " 9   PROD_CODE_30              956574 non-null  object \n",
      " 10  PROD_CODE_40              956574 non-null  object \n",
      " 11  CUST_CODE                 802892 non-null  object \n",
      " 12  CUST_PRICE_SENSITIVITY    802892 non-null  object \n",
      " 13  CUST_LIFESTAGE            697259 non-null  object \n",
      " 14  BASKET_ID                 956574 non-null  float64\n",
      " 15  BASKET_SIZE               956574 non-null  object \n",
      " 16  BASKET_PRICE_SENSITIVITY  956574 non-null  object \n",
      " 17  BASKET_TYPE               956574 non-null  object \n",
      " 18  BASKET_DOMINANT_MISSION   956574 non-null  object \n",
      " 19  STORE_CODE                956574 non-null  object \n",
      " 20  STORE_FORMAT              956574 non-null  object \n",
      " 21  STORE_REGION              956574 non-null  object \n",
      "dtypes: float64(2), int64(5), object(15)\n",
      "memory usage: 160.6+ MB\n"
     ]
    }
   ],
   "source": [
    "data.info()"
   ]
  },
  {
   "cell_type": "code",
   "execution_count": 5,
   "metadata": {},
   "outputs": [
    {
     "data": {
      "text/plain": [
       "SHOP_WEEK                        0\n",
       "SHOP_DATE                        0\n",
       "SHOP_WEEKDAY                     0\n",
       "SHOP_HOUR                        0\n",
       "QUANTITY                         0\n",
       "SPEND                            0\n",
       "PROD_CODE                        0\n",
       "PROD_CODE_10                     0\n",
       "PROD_CODE_20                     0\n",
       "PROD_CODE_30                     0\n",
       "PROD_CODE_40                     0\n",
       "CUST_CODE                   153682\n",
       "CUST_PRICE_SENSITIVITY      153682\n",
       "CUST_LIFESTAGE              259315\n",
       "BASKET_ID                        0\n",
       "BASKET_SIZE                      0\n",
       "BASKET_PRICE_SENSITIVITY         0\n",
       "BASKET_TYPE                      0\n",
       "BASKET_DOMINANT_MISSION          0\n",
       "STORE_CODE                       0\n",
       "STORE_FORMAT                     0\n",
       "STORE_REGION                     0\n",
       "dtype: int64"
      ]
     },
     "execution_count": 5,
     "metadata": {},
     "output_type": "execute_result"
    }
   ],
   "source": [
    "data.isnull().sum()"
   ]
  },
  {
   "cell_type": "code",
   "execution_count": 6,
   "metadata": {},
   "outputs": [],
   "source": [
    "data2 = data.dropna(thresh=1, subset=['CUST_CODE'])"
   ]
  },
  {
   "cell_type": "code",
   "execution_count": 7,
   "metadata": {},
   "outputs": [
    {
     "data": {
      "text/plain": [
       "SHOP_WEEK                        0\n",
       "SHOP_DATE                        0\n",
       "SHOP_WEEKDAY                     0\n",
       "SHOP_HOUR                        0\n",
       "QUANTITY                         0\n",
       "SPEND                            0\n",
       "PROD_CODE                        0\n",
       "PROD_CODE_10                     0\n",
       "PROD_CODE_20                     0\n",
       "PROD_CODE_30                     0\n",
       "PROD_CODE_40                     0\n",
       "CUST_CODE                        0\n",
       "CUST_PRICE_SENSITIVITY           0\n",
       "CUST_LIFESTAGE              105633\n",
       "BASKET_ID                        0\n",
       "BASKET_SIZE                      0\n",
       "BASKET_PRICE_SENSITIVITY         0\n",
       "BASKET_TYPE                      0\n",
       "BASKET_DOMINANT_MISSION          0\n",
       "STORE_CODE                       0\n",
       "STORE_FORMAT                     0\n",
       "STORE_REGION                     0\n",
       "dtype: int64"
      ]
     },
     "execution_count": 7,
     "metadata": {},
     "output_type": "execute_result"
    }
   ],
   "source": [
    "data2.isnull().sum()"
   ]
  },
  {
   "cell_type": "code",
   "execution_count": 8,
   "metadata": {},
   "outputs": [
    {
     "name": "stdout",
     "output_type": "stream",
     "text": [
      "<class 'pandas.core.frame.DataFrame'>\n",
      "Int64Index: 802892 entries, 0 to 956572\n",
      "Data columns (total 22 columns):\n",
      " #   Column                    Non-Null Count   Dtype  \n",
      "---  ------                    --------------   -----  \n",
      " 0   SHOP_WEEK                 802892 non-null  int64  \n",
      " 1   SHOP_DATE                 802892 non-null  int64  \n",
      " 2   SHOP_WEEKDAY              802892 non-null  int64  \n",
      " 3   SHOP_HOUR                 802892 non-null  int64  \n",
      " 4   QUANTITY                  802892 non-null  int64  \n",
      " 5   SPEND                     802892 non-null  float64\n",
      " 6   PROD_CODE                 802892 non-null  object \n",
      " 7   PROD_CODE_10              802892 non-null  object \n",
      " 8   PROD_CODE_20              802892 non-null  object \n",
      " 9   PROD_CODE_30              802892 non-null  object \n",
      " 10  PROD_CODE_40              802892 non-null  object \n",
      " 11  CUST_CODE                 802892 non-null  object \n",
      " 12  CUST_PRICE_SENSITIVITY    802892 non-null  object \n",
      " 13  CUST_LIFESTAGE            697259 non-null  object \n",
      " 14  BASKET_ID                 802892 non-null  float64\n",
      " 15  BASKET_SIZE               802892 non-null  object \n",
      " 16  BASKET_PRICE_SENSITIVITY  802892 non-null  object \n",
      " 17  BASKET_TYPE               802892 non-null  object \n",
      " 18  BASKET_DOMINANT_MISSION   802892 non-null  object \n",
      " 19  STORE_CODE                802892 non-null  object \n",
      " 20  STORE_FORMAT              802892 non-null  object \n",
      " 21  STORE_REGION              802892 non-null  object \n",
      "dtypes: float64(2), int64(5), object(15)\n",
      "memory usage: 140.9+ MB\n"
     ]
    }
   ],
   "source": [
    "data2.info()"
   ]
  },
  {
   "cell_type": "code",
   "execution_count": 15,
   "metadata": {},
   "outputs": [],
   "source": [
    "X = data2.iloc[:, [0, 1, 2, 3, 4, 5]].values"
   ]
  },
  {
   "cell_type": "code",
   "execution_count": 16,
   "metadata": {},
   "outputs": [
    {
     "data": {
      "text/plain": [
       "array([[2.0073200e+05, 2.0071005e+07, 6.0000000e+00, 1.7000000e+01,\n",
       "        3.0000000e+00, 6.7500000e+00],\n",
       "       [2.0073300e+05, 2.0071010e+07, 4.0000000e+00, 2.0000000e+01,\n",
       "        3.0000000e+00, 6.7500000e+00],\n",
       "       [2.0074100e+05, 2.0071209e+07, 1.0000000e+00, 1.1000000e+01,\n",
       "        1.0000000e+00, 2.2500000e+00],\n",
       "       ...,\n",
       "       [2.0061800e+05, 2.0060701e+07, 7.0000000e+00, 1.2000000e+01,\n",
       "        3.0000000e+00, 3.9600000e+00],\n",
       "       [2.0061700e+05, 2.0060622e+07, 5.0000000e+00, 1.8000000e+01,\n",
       "        3.0000000e+00, 3.9600000e+00],\n",
       "       [2.0061900e+05, 2.0060706e+07, 5.0000000e+00, 1.9000000e+01,\n",
       "        3.0000000e+00, 3.9600000e+00]])"
      ]
     },
     "execution_count": 16,
     "metadata": {},
     "output_type": "execute_result"
    }
   ],
   "source": [
    "X"
   ]
  },
  {
   "cell_type": "code",
   "execution_count": 17,
   "metadata": {},
   "outputs": [],
   "source": [
    "# Using the elbow method to find the optimal number of clusters\n",
    "from sklearn.cluster import KMeans\n",
    "wcss = []\n",
    "for i in range(1, 11):\n",
    "    kmeans = KMeans(n_clusters = i, init = 'k-means++', random_state = 42)\n",
    "    kmeans.fit(X)\n",
    "    # inertia method returns wcss for that model\n",
    "    wcss.append(kmeans.inertia_)"
   ]
  },
  {
   "cell_type": "code",
   "execution_count": 18,
   "metadata": {},
   "outputs": [
    {
     "data": {
      "image/png": "[encoded data removed]",
      "text/plain": [
       "<Figure size 720x360 with 1 Axes>"
      ]
     },
     "metadata": {},
     "output_type": "display_data"
    }
   ],
   "source": [
    "plt.figure(figsize=(10,5))\n",
    "sns.lineplot(range(1, 11), wcss,marker='o',color='red')\n",
    "plt.title('The Elbow Method')\n",
    "plt.xlabel('Number of clusters')\n",
    "plt.ylabel('WCSS')\n",
    "plt.show()"
   ]
  },
  {
   "cell_type": "code",
   "execution_count": null,
   "metadata": {},
   "outputs": [],
   "source": []
  }
 ],
 "metadata": {
  "kernelspec": {
   "display_name": "Python 3",
   "language": "python",
   "name": "python3"
  },
  "language_info": {
   "codemirror_mode": {
    "name": "ipython",
    "version": 3
   },
   "file_extension": ".py",
   "mimetype": "text/x-python",
   "name": "python",
   "nbconvert_exporter": "python",
   "pygments_lexer": "ipython3",
   "version": "3.7.6"
  }
 },
 "nbformat": 4,
 "nbformat_minor": 4
}
