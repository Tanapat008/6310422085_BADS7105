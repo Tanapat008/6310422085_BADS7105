{
 "cells": [
  {
   "cell_type": "markdown",
   "metadata": {
    "id": "5ZKtUVUUXnTv"
   },
   "source": [
    "## **Importing libraries and datasets**"
   ]
  },
  {
   "cell_type": "code",
   "execution_count": 1,
   "metadata": {},
   "outputs": [],
   "source": [
    "#!pip install Lifetimes\n",
    "#!pip install scikit-learn-extra"
   ]
  },
  {
   "cell_type": "code",
   "execution_count": 2,
   "metadata": {},
   "outputs": [
    {
     "name": "stdout",
     "output_type": "stream",
     "text": [
      "Requirement already satisfied: squarify in c:\\users\\asus\\anaconda3\\lib\\site-packages (0.4.3)\n"
     ]
    }
   ],
   "source": [
    "!pip install squarify"
   ]
  },
  {
   "cell_type": "code",
   "execution_count": 3,
   "metadata": {},
   "outputs": [],
   "source": [
    "import numpy as np\n",
    "import pandas as pd\n",
    "import datetime as dt\n",
    "import numpy as np\n",
    "import matplotlib.pyplot as plt\n",
    "import xgboost as xgb\n",
    "import seaborn as sns\n",
    "from sklearn.model_selection import train_test_split\n",
    "from sklearn.metrics import precision_score, recall_score, f1_score, roc_auc_score, accuracy_score, classification_report, roc_curve, auc\n",
    "from imblearn.under_sampling import RandomUnderSampler\n",
    "from imblearn.over_sampling import RandomOverSampler\n",
    "from imblearn.over_sampling import SMOTE\n",
    "from xgboost import plot_importance\n",
    "from sklearn.linear_model import LogisticRegression\n",
    "from sklearn.metrics import confusion_matrix\n",
    "from sklearn.cluster import KMeans\n",
    "from sklearn.preprocessing import StandardScaler, normalize\n",
    "from sklearn.decomposition import PCA\n",
    "from sklearn.metrics import silhouette_score\n",
    "import seaborn as sns\n",
    "import matplotlib.pyplot as plt\n",
    "from datetime import timedelta\n",
    "from datetime import date\n",
    "import squarify\n",
    "from lifetimes.plotting import *\n",
    "from lifetimes.utils import *\n",
    "from lifetimes import BetaGeoFitter\n",
    "from lifetimes import GammaGammaFitter\n",
    "from scipy.stats import gamma, beta\n",
    "from sklearn_extra.cluster import KMedoids\n",
    "import warnings\n",
    "warnings.filterwarnings('ignore')\n",
    "from sklearn.model_selection import KFold, train_test_split, GridSearchCV, StratifiedKFold"
   ]
  },
  {
   "cell_type": "code",
   "execution_count": 4,
   "metadata": {
    "executionInfo": {
     "elapsed": 11398,
     "status": "ok",
     "timestamp": 1603475327678,
     "user": {
      "displayName": "Thanachart Ritbumroong",
      "photoUrl": "",
      "userId": "18414212507793256437"
     },
     "user_tz": -420
    },
    "id": "ki6FxV4YXxbX"
   },
   "outputs": [],
   "source": [
    "df_response = pd.read_csv('Retail_Data_Response.csv')\n",
    "df_transactions = pd.read_csv('Retail_Data_Transactions.csv', parse_dates=['trans_date'])"
   ]
  },
  {
   "cell_type": "code",
   "execution_count": 5,
   "metadata": {
    "colab": {
     "base_uri": "https://localhost:8080/",
     "height": 204
    },
    "executionInfo": {
     "elapsed": 11388,
     "status": "ok",
     "timestamp": 1603475327679,
     "user": {
      "displayName": "Thanachart Ritbumroong",
      "photoUrl": "",
      "userId": "18414212507793256437"
     },
     "user_tz": -420
    },
    "id": "1ylf2VsFYOVm",
    "outputId": "0bb367ef-74d3-4068-c2e8-849267a82d62"
   },
   "outputs": [
    {
     "name": "stdout",
     "output_type": "stream",
     "text": [
      "(6884, 2)\n",
      "(125000, 3)\n"
     ]
    }
   ],
   "source": [
    "print(df_response.shape)\n",
    "print(df_transactions.shape)"
   ]
  },
  {
   "cell_type": "code",
   "execution_count": 6,
   "metadata": {
    "colab": {
     "base_uri": "https://localhost:8080/",
     "height": 204
    },
    "executionInfo": {
     "elapsed": 11383,
     "status": "ok",
     "timestamp": 1603475327680,
     "user": {
      "displayName": "Thanachart Ritbumroong",
      "photoUrl": "",
      "userId": "18414212507793256437"
     },
     "user_tz": -420
    },
    "id": "jknwtDiZYQvq",
    "outputId": "0b0fa2f6-23ce-4d81-d9ff-1a92cc6f0113"
   },
   "outputs": [
    {
     "data": {
      "text/html": [
       "<div>\n",
       "<style scoped>\n",
       "    .dataframe tbody tr th:only-of-type {\n",
       "        vertical-align: middle;\n",
       "    }\n",
       "\n",
       "    .dataframe tbody tr th {\n",
       "        vertical-align: top;\n",
       "    }\n",
       "\n",
       "    .dataframe thead th {\n",
       "        text-align: right;\n",
       "    }\n",
       "</style>\n",
       "<table border=\"1\" class=\"dataframe\">\n",
       "  <thead>\n",
       "    <tr style=\"text-align: right;\">\n",
       "      <th></th>\n",
       "      <th>customer_id</th>\n",
       "      <th>trans_date</th>\n",
       "      <th>tran_amount</th>\n",
       "    </tr>\n",
       "  </thead>\n",
       "  <tbody>\n",
       "    <tr>\n",
       "      <th>0</th>\n",
       "      <td>CS5295</td>\n",
       "      <td>2013-02-11</td>\n",
       "      <td>35</td>\n",
       "    </tr>\n",
       "    <tr>\n",
       "      <th>1</th>\n",
       "      <td>CS4768</td>\n",
       "      <td>2015-03-15</td>\n",
       "      <td>39</td>\n",
       "    </tr>\n",
       "    <tr>\n",
       "      <th>2</th>\n",
       "      <td>CS2122</td>\n",
       "      <td>2013-02-26</td>\n",
       "      <td>52</td>\n",
       "    </tr>\n",
       "    <tr>\n",
       "      <th>3</th>\n",
       "      <td>CS1217</td>\n",
       "      <td>2011-11-16</td>\n",
       "      <td>99</td>\n",
       "    </tr>\n",
       "    <tr>\n",
       "      <th>4</th>\n",
       "      <td>CS1850</td>\n",
       "      <td>2013-11-20</td>\n",
       "      <td>78</td>\n",
       "    </tr>\n",
       "  </tbody>\n",
       "</table>\n",
       "</div>"
      ],
      "text/plain": [
       "  customer_id trans_date  tran_amount\n",
       "0      CS5295 2013-02-11           35\n",
       "1      CS4768 2015-03-15           39\n",
       "2      CS2122 2013-02-26           52\n",
       "3      CS1217 2011-11-16           99\n",
       "4      CS1850 2013-11-20           78"
      ]
     },
     "execution_count": 6,
     "metadata": {},
     "output_type": "execute_result"
    }
   ],
   "source": [
    "df_transactions.head()"
   ]
  },
  {
   "cell_type": "code",
   "execution_count": 7,
   "metadata": {},
   "outputs": [
    {
     "data": {
      "text/plain": [
       "(Timestamp('2011-05-16 00:00:00'), Timestamp('2015-03-16 00:00:00'))"
      ]
     },
     "execution_count": 7,
     "metadata": {},
     "output_type": "execute_result"
    }
   ],
   "source": [
    "df_transactions['trans_date'].min(), df_transactions['trans_date'].max()"
   ]
  },
  {
   "cell_type": "code",
   "execution_count": 8,
   "metadata": {},
   "outputs": [
    {
     "data": {
      "text/html": [
       "<div>\n",
       "<style scoped>\n",
       "    .dataframe tbody tr th:only-of-type {\n",
       "        vertical-align: middle;\n",
       "    }\n",
       "\n",
       "    .dataframe tbody tr th {\n",
       "        vertical-align: top;\n",
       "    }\n",
       "\n",
       "    .dataframe thead th {\n",
       "        text-align: right;\n",
       "    }\n",
       "</style>\n",
       "<table border=\"1\" class=\"dataframe\">\n",
       "  <thead>\n",
       "    <tr style=\"text-align: right;\">\n",
       "      <th></th>\n",
       "      <th>customer_id</th>\n",
       "      <th>trans_date</th>\n",
       "      <th>tran_amount</th>\n",
       "      <th>recent</th>\n",
       "    </tr>\n",
       "  </thead>\n",
       "  <tbody>\n",
       "    <tr>\n",
       "      <th>0</th>\n",
       "      <td>CS5295</td>\n",
       "      <td>2013-02-11</td>\n",
       "      <td>35</td>\n",
       "      <td>764.0</td>\n",
       "    </tr>\n",
       "    <tr>\n",
       "      <th>1</th>\n",
       "      <td>CS4768</td>\n",
       "      <td>2015-03-15</td>\n",
       "      <td>39</td>\n",
       "      <td>2.0</td>\n",
       "    </tr>\n",
       "    <tr>\n",
       "      <th>2</th>\n",
       "      <td>CS2122</td>\n",
       "      <td>2013-02-26</td>\n",
       "      <td>52</td>\n",
       "      <td>749.0</td>\n",
       "    </tr>\n",
       "    <tr>\n",
       "      <th>3</th>\n",
       "      <td>CS1217</td>\n",
       "      <td>2011-11-16</td>\n",
       "      <td>99</td>\n",
       "      <td>1217.0</td>\n",
       "    </tr>\n",
       "    <tr>\n",
       "      <th>4</th>\n",
       "      <td>CS1850</td>\n",
       "      <td>2013-11-20</td>\n",
       "      <td>78</td>\n",
       "      <td>482.0</td>\n",
       "    </tr>\n",
       "  </tbody>\n",
       "</table>\n",
       "</div>"
      ],
      "text/plain": [
       "  customer_id trans_date  tran_amount  recent\n",
       "0      CS5295 2013-02-11           35   764.0\n",
       "1      CS4768 2015-03-15           39     2.0\n",
       "2      CS2122 2013-02-26           52   749.0\n",
       "3      CS1217 2011-11-16           99  1217.0\n",
       "4      CS1850 2013-11-20           78   482.0"
      ]
     },
     "execution_count": 8,
     "metadata": {},
     "output_type": "execute_result"
    }
   ],
   "source": [
    "campaign_date = dt.datetime(2015,3,17)\n",
    "df_transactions['recent']= campaign_date - df_transactions['trans_date']\n",
    "df_transactions['recent'].astype('timedelta64[D]')\n",
    "df_transactions['recent']=df_transactions['recent'] / np.timedelta64(1, 'D')\n",
    "df_transactions.head()"
   ]
  },
  {
   "cell_type": "code",
   "execution_count": 9,
   "metadata": {},
   "outputs": [
    {
     "data": {
      "text/html": [
       "<div>\n",
       "<style scoped>\n",
       "    .dataframe tbody tr th:only-of-type {\n",
       "        vertical-align: middle;\n",
       "    }\n",
       "\n",
       "    .dataframe tbody tr th {\n",
       "        vertical-align: top;\n",
       "    }\n",
       "\n",
       "    .dataframe thead th {\n",
       "        text-align: right;\n",
       "    }\n",
       "</style>\n",
       "<table border=\"1\" class=\"dataframe\">\n",
       "  <thead>\n",
       "    <tr style=\"text-align: right;\">\n",
       "      <th></th>\n",
       "      <th>customer_id</th>\n",
       "      <th>trans_date</th>\n",
       "      <th>tran_amount</th>\n",
       "      <th>recent</th>\n",
       "    </tr>\n",
       "  </thead>\n",
       "  <tbody>\n",
       "    <tr>\n",
       "      <th>0</th>\n",
       "      <td>CS5295</td>\n",
       "      <td>2013-02-11</td>\n",
       "      <td>35</td>\n",
       "      <td>764.0</td>\n",
       "    </tr>\n",
       "    <tr>\n",
       "      <th>1</th>\n",
       "      <td>CS4768</td>\n",
       "      <td>2015-03-15</td>\n",
       "      <td>39</td>\n",
       "      <td>2.0</td>\n",
       "    </tr>\n",
       "    <tr>\n",
       "      <th>2</th>\n",
       "      <td>CS2122</td>\n",
       "      <td>2013-02-26</td>\n",
       "      <td>52</td>\n",
       "      <td>749.0</td>\n",
       "    </tr>\n",
       "    <tr>\n",
       "      <th>3</th>\n",
       "      <td>CS1217</td>\n",
       "      <td>2011-11-16</td>\n",
       "      <td>99</td>\n",
       "      <td>1217.0</td>\n",
       "    </tr>\n",
       "    <tr>\n",
       "      <th>4</th>\n",
       "      <td>CS1850</td>\n",
       "      <td>2013-11-20</td>\n",
       "      <td>78</td>\n",
       "      <td>482.0</td>\n",
       "    </tr>\n",
       "  </tbody>\n",
       "</table>\n",
       "</div>"
      ],
      "text/plain": [
       "  customer_id trans_date  tran_amount  recent\n",
       "0      CS5295 2013-02-11           35   764.0\n",
       "1      CS4768 2015-03-15           39     2.0\n",
       "2      CS2122 2013-02-26           52   749.0\n",
       "3      CS1217 2011-11-16           99  1217.0\n",
       "4      CS1850 2013-11-20           78   482.0"
      ]
     },
     "execution_count": 9,
     "metadata": {},
     "output_type": "execute_result"
    }
   ],
   "source": [
    "campaign_date = dt.datetime(2015,3,17)\n",
    "df_transactions['recent']= campaign_date - df_transactions['trans_date']\n",
    "df_transactions['recent'].astype('timedelta64[D]')\n",
    "df_transactions['recent']=df_transactions['recent'] / np.timedelta64(1, 'D')\n",
    "df_transactions.head()"
   ]
  },
  {
   "cell_type": "code",
   "execution_count": 10,
   "metadata": {},
   "outputs": [],
   "source": [
    "df_rfm = df_transactions.groupby('customer_id').agg({'recent': lambda x:x.min(),                      # Recency\n",
    "                                                     'customer_id': lambda x: len(x),                 # Frequency\n",
    "                                                     'tran_amount': lambda x: x.sum()})               # Monetary Value           \n",
    "\n",
    "\n",
    "df_rfm.rename(columns={'recent': 'recency', \n",
    "                       'customer_id': 'frequency', \n",
    "                       'tran_amount': 'monetary_value'}, inplace=True)"
   ]
  },
  {
   "cell_type": "code",
   "execution_count": 11,
   "metadata": {},
   "outputs": [
    {
     "data": {
      "text/html": [
       "<div>\n",
       "<style scoped>\n",
       "    .dataframe tbody tr th:only-of-type {\n",
       "        vertical-align: middle;\n",
       "    }\n",
       "\n",
       "    .dataframe tbody tr th {\n",
       "        vertical-align: top;\n",
       "    }\n",
       "\n",
       "    .dataframe thead th {\n",
       "        text-align: right;\n",
       "    }\n",
       "</style>\n",
       "<table border=\"1\" class=\"dataframe\">\n",
       "  <thead>\n",
       "    <tr style=\"text-align: right;\">\n",
       "      <th></th>\n",
       "      <th>customer_id</th>\n",
       "      <th>recency</th>\n",
       "      <th>frequency</th>\n",
       "      <th>monetary_value</th>\n",
       "    </tr>\n",
       "  </thead>\n",
       "  <tbody>\n",
       "    <tr>\n",
       "      <th>0</th>\n",
       "      <td>CS1112</td>\n",
       "      <td>62.0</td>\n",
       "      <td>15</td>\n",
       "      <td>1012</td>\n",
       "    </tr>\n",
       "    <tr>\n",
       "      <th>1</th>\n",
       "      <td>CS1113</td>\n",
       "      <td>36.0</td>\n",
       "      <td>20</td>\n",
       "      <td>1490</td>\n",
       "    </tr>\n",
       "    <tr>\n",
       "      <th>2</th>\n",
       "      <td>CS1114</td>\n",
       "      <td>33.0</td>\n",
       "      <td>19</td>\n",
       "      <td>1432</td>\n",
       "    </tr>\n",
       "    <tr>\n",
       "      <th>3</th>\n",
       "      <td>CS1115</td>\n",
       "      <td>12.0</td>\n",
       "      <td>22</td>\n",
       "      <td>1659</td>\n",
       "    </tr>\n",
       "    <tr>\n",
       "      <th>4</th>\n",
       "      <td>CS1116</td>\n",
       "      <td>204.0</td>\n",
       "      <td>13</td>\n",
       "      <td>857</td>\n",
       "    </tr>\n",
       "  </tbody>\n",
       "</table>\n",
       "</div>"
      ],
      "text/plain": [
       "  customer_id  recency  frequency  monetary_value\n",
       "0      CS1112     62.0         15            1012\n",
       "1      CS1113     36.0         20            1490\n",
       "2      CS1114     33.0         19            1432\n",
       "3      CS1115     12.0         22            1659\n",
       "4      CS1116    204.0         13             857"
      ]
     },
     "execution_count": 11,
     "metadata": {},
     "output_type": "execute_result"
    }
   ],
   "source": [
    "df_rfm = df_rfm.reset_index()\n",
    "df_rfm.head()"
   ]
  },
  {
   "cell_type": "code",
   "execution_count": 12,
   "metadata": {},
   "outputs": [
    {
     "data": {
      "text/html": [
       "<div>\n",
       "<style scoped>\n",
       "    .dataframe tbody tr th:only-of-type {\n",
       "        vertical-align: middle;\n",
       "    }\n",
       "\n",
       "    .dataframe tbody tr th {\n",
       "        vertical-align: top;\n",
       "    }\n",
       "\n",
       "    .dataframe thead th {\n",
       "        text-align: right;\n",
       "    }\n",
       "</style>\n",
       "<table border=\"1\" class=\"dataframe\">\n",
       "  <thead>\n",
       "    <tr style=\"text-align: right;\">\n",
       "      <th></th>\n",
       "      <th>customer_id</th>\n",
       "    </tr>\n",
       "    <tr>\n",
       "      <th>response</th>\n",
       "      <th></th>\n",
       "    </tr>\n",
       "  </thead>\n",
       "  <tbody>\n",
       "    <tr>\n",
       "      <th>0</th>\n",
       "      <td>6237</td>\n",
       "    </tr>\n",
       "    <tr>\n",
       "      <th>1</th>\n",
       "      <td>647</td>\n",
       "    </tr>\n",
       "  </tbody>\n",
       "</table>\n",
       "</div>"
      ],
      "text/plain": [
       "          customer_id\n",
       "response             \n",
       "0                6237\n",
       "1                 647"
      ]
     },
     "execution_count": 12,
     "metadata": {},
     "output_type": "execute_result"
    }
   ],
   "source": [
    "label = df_response.groupby('response').agg({'customer_id': lambda x: len(x)})\n",
    "label.head()"
   ]
  },
  {
   "cell_type": "code",
   "execution_count": 13,
   "metadata": {},
   "outputs": [
    {
     "data": {
      "image/png": "[encoded data removed]",
      "text/plain": [
       "<Figure size 360x360 with 1 Axes>"
      ]
     },
     "metadata": {
      "needs_background": "light"
     },
     "output_type": "display_data"
    }
   ],
   "source": [
    "plt.figure(figsize=(5,5))\n",
    "x=range(2)\n",
    "plt.bar(x,label['customer_id'])\n",
    "plt.xticks(label.index)\n",
    "plt.title('Label Distribution')\n",
    "plt.xlabel('Convert or Not')\n",
    "plt.ylabel('total_user')\n",
    "plt.show()"
   ]
  },
  {
   "cell_type": "code",
   "execution_count": 14,
   "metadata": {},
   "outputs": [
    {
     "data": {
      "text/html": [
       "<div>\n",
       "<style scoped>\n",
       "    .dataframe tbody tr th:only-of-type {\n",
       "        vertical-align: middle;\n",
       "    }\n",
       "\n",
       "    .dataframe tbody tr th {\n",
       "        vertical-align: top;\n",
       "    }\n",
       "\n",
       "    .dataframe thead th {\n",
       "        text-align: right;\n",
       "    }\n",
       "</style>\n",
       "<table border=\"1\" class=\"dataframe\">\n",
       "  <thead>\n",
       "    <tr style=\"text-align: right;\">\n",
       "      <th></th>\n",
       "      <th>customer_id</th>\n",
       "      <th>response</th>\n",
       "      <th>recency</th>\n",
       "      <th>frequency</th>\n",
       "      <th>monetary_value</th>\n",
       "    </tr>\n",
       "  </thead>\n",
       "  <tbody>\n",
       "    <tr>\n",
       "      <th>0</th>\n",
       "      <td>CS1112</td>\n",
       "      <td>0</td>\n",
       "      <td>62.0</td>\n",
       "      <td>15</td>\n",
       "      <td>1012</td>\n",
       "    </tr>\n",
       "    <tr>\n",
       "      <th>1</th>\n",
       "      <td>CS1113</td>\n",
       "      <td>0</td>\n",
       "      <td>36.0</td>\n",
       "      <td>20</td>\n",
       "      <td>1490</td>\n",
       "    </tr>\n",
       "    <tr>\n",
       "      <th>2</th>\n",
       "      <td>CS1114</td>\n",
       "      <td>1</td>\n",
       "      <td>33.0</td>\n",
       "      <td>19</td>\n",
       "      <td>1432</td>\n",
       "    </tr>\n",
       "    <tr>\n",
       "      <th>3</th>\n",
       "      <td>CS1115</td>\n",
       "      <td>1</td>\n",
       "      <td>12.0</td>\n",
       "      <td>22</td>\n",
       "      <td>1659</td>\n",
       "    </tr>\n",
       "    <tr>\n",
       "      <th>4</th>\n",
       "      <td>CS1116</td>\n",
       "      <td>1</td>\n",
       "      <td>204.0</td>\n",
       "      <td>13</td>\n",
       "      <td>857</td>\n",
       "    </tr>\n",
       "  </tbody>\n",
       "</table>\n",
       "</div>"
      ],
      "text/plain": [
       "  customer_id  response  recency  frequency  monetary_value\n",
       "0      CS1112         0     62.0         15            1012\n",
       "1      CS1113         0     36.0         20            1490\n",
       "2      CS1114         1     33.0         19            1432\n",
       "3      CS1115         1     12.0         22            1659\n",
       "4      CS1116         1    204.0         13             857"
      ]
     },
     "execution_count": 14,
     "metadata": {},
     "output_type": "execute_result"
    }
   ],
   "source": [
    "dataset = pd.merge(df_response,df_rfm)\n",
    "dataset.head()"
   ]
  },
  {
   "cell_type": "code",
   "execution_count": 15,
   "metadata": {},
   "outputs": [],
   "source": [
    "#pd.crosstab(index= dataset['response'] , columns=dataset['frequency']).plot(kind=\"bar\", figsize=(8,8),stacked=True)"
   ]
  },
  {
   "cell_type": "code",
   "execution_count": 16,
   "metadata": {},
   "outputs": [
    {
     "data": {
      "text/html": [
       "<div>\n",
       "<style scoped>\n",
       "    .dataframe tbody tr th:only-of-type {\n",
       "        vertical-align: middle;\n",
       "    }\n",
       "\n",
       "    .dataframe tbody tr th {\n",
       "        vertical-align: top;\n",
       "    }\n",
       "\n",
       "    .dataframe thead th {\n",
       "        text-align: right;\n",
       "    }\n",
       "</style>\n",
       "<table border=\"1\" class=\"dataframe\">\n",
       "  <thead>\n",
       "    <tr style=\"text-align: right;\">\n",
       "      <th></th>\n",
       "      <th>recency</th>\n",
       "      <th>frequency</th>\n",
       "      <th>monetary</th>\n",
       "    </tr>\n",
       "  </thead>\n",
       "  <tbody>\n",
       "    <tr>\n",
       "      <th>count</th>\n",
       "      <td>6.884000e+03</td>\n",
       "      <td>6.884000e+03</td>\n",
       "      <td>6.884000e+03</td>\n",
       "    </tr>\n",
       "    <tr>\n",
       "      <th>mean</th>\n",
       "      <td>1.341235e-15</td>\n",
       "      <td>-1.959469e-15</td>\n",
       "      <td>2.019174e-17</td>\n",
       "    </tr>\n",
       "    <tr>\n",
       "      <th>std</th>\n",
       "      <td>1.000073e+00</td>\n",
       "      <td>1.000073e+00</td>\n",
       "      <td>1.000073e+00</td>\n",
       "    </tr>\n",
       "    <tr>\n",
       "      <th>min</th>\n",
       "      <td>-9.613192e-01</td>\n",
       "      <td>-2.730184e+00</td>\n",
       "      <td>-2.215126e+00</td>\n",
       "    </tr>\n",
       "    <tr>\n",
       "      <th>25%</th>\n",
       "      <td>-6.970389e-01</td>\n",
       "      <td>-8.012085e-01</td>\n",
       "      <td>-8.571183e-01</td>\n",
       "    </tr>\n",
       "    <tr>\n",
       "      <th>50%</th>\n",
       "      <td>-3.246441e-01</td>\n",
       "      <td>-2.961835e-02</td>\n",
       "      <td>1.033714e-01</td>\n",
       "    </tr>\n",
       "    <tr>\n",
       "      <th>75%</th>\n",
       "      <td>3.720947e-01</td>\n",
       "      <td>7.419718e-01</td>\n",
       "      <td>7.313427e-01</td>\n",
       "    </tr>\n",
       "    <tr>\n",
       "      <th>max</th>\n",
       "      <td>7.183317e+00</td>\n",
       "      <td>4.021230e+00</td>\n",
       "      <td>3.766985e+00</td>\n",
       "    </tr>\n",
       "  </tbody>\n",
       "</table>\n",
       "</div>"
      ],
      "text/plain": [
       "            recency     frequency      monetary\n",
       "count  6.884000e+03  6.884000e+03  6.884000e+03\n",
       "mean   1.341235e-15 -1.959469e-15  2.019174e-17\n",
       "std    1.000073e+00  1.000073e+00  1.000073e+00\n",
       "min   -9.613192e-01 -2.730184e+00 -2.215126e+00\n",
       "25%   -6.970389e-01 -8.012085e-01 -8.571183e-01\n",
       "50%   -3.246441e-01 -2.961835e-02  1.033714e-01\n",
       "75%    3.720947e-01  7.419718e-01  7.313427e-01\n",
       "max    7.183317e+00  4.021230e+00  3.766985e+00"
      ]
     },
     "execution_count": 16,
     "metadata": {},
     "output_type": "execute_result"
    }
   ],
   "source": [
    "X=dataset[['recency','frequency','monetary_value']]\n",
    "\n",
    "from sklearn.preprocessing import StandardScaler\n",
    "\n",
    "X_std = StandardScaler().fit_transform(X)\n",
    "RFM_std = pd.DataFrame(data = X_std, columns = ['recency','frequency','monetary'])\n",
    "RFM_std.describe()"
   ]
  },
  {
   "cell_type": "code",
   "execution_count": 17,
   "metadata": {},
   "outputs": [
    {
     "data": {
      "text/plain": [
       "[<matplotlib.lines.Line2D at 0x143707cfa08>]"
      ]
     },
     "execution_count": 17,
     "metadata": {},
     "output_type": "execute_result"
    },
    {
     "data": {
      "image/png": "[encoded data removed]",
      "text/plain": [
       "<Figure size 864x576 with 1 Axes>"
      ]
     },
     "metadata": {
      "needs_background": "light"
     },
     "output_type": "display_data"
    }
   ],
   "source": [
    "from sklearn.cluster import KMeans\n",
    "inertia = []\n",
    "\n",
    "for i in range(1, 11):\n",
    "  kmeans = KMeans(n_clusters=i, init='k-means++', max_iter=300, n_init=10, random_state=42)\n",
    "  kmeans.fit(RFM_std.values)\n",
    "  inertia.append(kmeans.inertia_)\n",
    "\n",
    "plt.figure(figsize=(12, 8))\n",
    "plt.plot(inertia)"
   ]
  },
  {
   "cell_type": "code",
   "execution_count": 18,
   "metadata": {},
   "outputs": [],
   "source": [
    "#silhouette_scores = [] \n",
    "\n",
    "#for n_cluster in range(2, 8):\n",
    "#    silhouette_scores.append( \n",
    "#        silhouette_score(RFM_std, KMeans(n_clusters = n_cluster).fit_predict(RFM_std))) \n",
    "    \n",
    "# Plotting a bar graph to compare the results \n",
    "#k = [2, 3, 4, 5, 6,7] \n",
    "#plt.bar(k, silhouette_scores) \n",
    "#plt.xlabel('Number of clusters', fontsize = 10) \n",
    "#plt.ylabel('Silhouette Score', fontsize = 10) \n",
    "#plt.show() "
   ]
  },
  {
   "cell_type": "code",
   "execution_count": 19,
   "metadata": {},
   "outputs": [
    {
     "data": {
      "text/html": [
       "<div>\n",
       "<style scoped>\n",
       "    .dataframe tbody tr th:only-of-type {\n",
       "        vertical-align: middle;\n",
       "    }\n",
       "\n",
       "    .dataframe tbody tr th {\n",
       "        vertical-align: top;\n",
       "    }\n",
       "\n",
       "    .dataframe thead th {\n",
       "        text-align: right;\n",
       "    }\n",
       "</style>\n",
       "<table border=\"1\" class=\"dataframe\">\n",
       "  <thead>\n",
       "    <tr style=\"text-align: right;\">\n",
       "      <th></th>\n",
       "      <th>customer_id</th>\n",
       "      <th>recency</th>\n",
       "      <th>frequency</th>\n",
       "      <th>monetary_value</th>\n",
       "    </tr>\n",
       "  </thead>\n",
       "  <tbody>\n",
       "    <tr>\n",
       "      <th>0</th>\n",
       "      <td>CS1112</td>\n",
       "      <td>62.0</td>\n",
       "      <td>15</td>\n",
       "      <td>1012</td>\n",
       "    </tr>\n",
       "    <tr>\n",
       "      <th>1</th>\n",
       "      <td>CS1113</td>\n",
       "      <td>36.0</td>\n",
       "      <td>20</td>\n",
       "      <td>1490</td>\n",
       "    </tr>\n",
       "  </tbody>\n",
       "</table>\n",
       "</div>"
      ],
      "text/plain": [
       "  customer_id  recency  frequency  monetary_value\n",
       "0      CS1112     62.0         15            1012\n",
       "1      CS1113     36.0         20            1490"
      ]
     },
     "execution_count": 19,
     "metadata": {},
     "output_type": "execute_result"
    }
   ],
   "source": [
    "df_rfm.head(2)"
   ]
  },
  {
   "cell_type": "code",
   "execution_count": 20,
   "metadata": {},
   "outputs": [
    {
     "data": {
      "text/html": [
       "<div>\n",
       "<style scoped>\n",
       "    .dataframe tbody tr th:only-of-type {\n",
       "        vertical-align: middle;\n",
       "    }\n",
       "\n",
       "    .dataframe tbody tr th {\n",
       "        vertical-align: top;\n",
       "    }\n",
       "\n",
       "    .dataframe thead th {\n",
       "        text-align: right;\n",
       "    }\n",
       "</style>\n",
       "<table border=\"1\" class=\"dataframe\">\n",
       "  <thead>\n",
       "    <tr style=\"text-align: right;\">\n",
       "      <th></th>\n",
       "      <th>customer_id</th>\n",
       "      <th>recency</th>\n",
       "      <th>frequency</th>\n",
       "      <th>monetary_value</th>\n",
       "      <th>idno</th>\n",
       "    </tr>\n",
       "  </thead>\n",
       "  <tbody>\n",
       "    <tr>\n",
       "      <th>0</th>\n",
       "      <td>CS1112</td>\n",
       "      <td>62.0</td>\n",
       "      <td>15</td>\n",
       "      <td>1012</td>\n",
       "      <td>1112</td>\n",
       "    </tr>\n",
       "    <tr>\n",
       "      <th>1</th>\n",
       "      <td>CS1113</td>\n",
       "      <td>36.0</td>\n",
       "      <td>20</td>\n",
       "      <td>1490</td>\n",
       "      <td>1113</td>\n",
       "    </tr>\n",
       "    <tr>\n",
       "      <th>2</th>\n",
       "      <td>CS1114</td>\n",
       "      <td>33.0</td>\n",
       "      <td>19</td>\n",
       "      <td>1432</td>\n",
       "      <td>1114</td>\n",
       "    </tr>\n",
       "    <tr>\n",
       "      <th>3</th>\n",
       "      <td>CS1115</td>\n",
       "      <td>12.0</td>\n",
       "      <td>22</td>\n",
       "      <td>1659</td>\n",
       "      <td>1115</td>\n",
       "    </tr>\n",
       "    <tr>\n",
       "      <th>4</th>\n",
       "      <td>CS1116</td>\n",
       "      <td>204.0</td>\n",
       "      <td>13</td>\n",
       "      <td>857</td>\n",
       "      <td>1116</td>\n",
       "    </tr>\n",
       "    <tr>\n",
       "      <th>...</th>\n",
       "      <td>...</td>\n",
       "      <td>...</td>\n",
       "      <td>...</td>\n",
       "      <td>...</td>\n",
       "      <td>...</td>\n",
       "    </tr>\n",
       "    <tr>\n",
       "      <th>6884</th>\n",
       "      <td>CS8996</td>\n",
       "      <td>98.0</td>\n",
       "      <td>13</td>\n",
       "      <td>582</td>\n",
       "      <td>8996</td>\n",
       "    </tr>\n",
       "    <tr>\n",
       "      <th>6885</th>\n",
       "      <td>CS8997</td>\n",
       "      <td>262.0</td>\n",
       "      <td>14</td>\n",
       "      <td>543</td>\n",
       "      <td>8997</td>\n",
       "    </tr>\n",
       "    <tr>\n",
       "      <th>6886</th>\n",
       "      <td>CS8998</td>\n",
       "      <td>85.0</td>\n",
       "      <td>13</td>\n",
       "      <td>624</td>\n",
       "      <td>8998</td>\n",
       "    </tr>\n",
       "    <tr>\n",
       "      <th>6887</th>\n",
       "      <td>CS8999</td>\n",
       "      <td>258.0</td>\n",
       "      <td>12</td>\n",
       "      <td>383</td>\n",
       "      <td>8999</td>\n",
       "    </tr>\n",
       "    <tr>\n",
       "      <th>6888</th>\n",
       "      <td>CS9000</td>\n",
       "      <td>17.0</td>\n",
       "      <td>13</td>\n",
       "      <td>533</td>\n",
       "      <td>9000</td>\n",
       "    </tr>\n",
       "  </tbody>\n",
       "</table>\n",
       "<p>6889 rows × 5 columns</p>\n",
       "</div>"
      ],
      "text/plain": [
       "     customer_id  recency  frequency  monetary_value  idno\n",
       "0         CS1112     62.0         15            1012  1112\n",
       "1         CS1113     36.0         20            1490  1113\n",
       "2         CS1114     33.0         19            1432  1114\n",
       "3         CS1115     12.0         22            1659  1115\n",
       "4         CS1116    204.0         13             857  1116\n",
       "...          ...      ...        ...             ...   ...\n",
       "6884      CS8996     98.0         13             582  8996\n",
       "6885      CS8997    262.0         14             543  8997\n",
       "6886      CS8998     85.0         13             624  8998\n",
       "6887      CS8999    258.0         12             383  8999\n",
       "6888      CS9000     17.0         13             533  9000\n",
       "\n",
       "[6889 rows x 5 columns]"
      ]
     },
     "execution_count": 20,
     "metadata": {},
     "output_type": "execute_result"
    }
   ],
   "source": [
    "df_rfm['idno'] = df_rfm['customer_id'].str[2:]\n",
    "df_rfm"
   ]
  },
  {
   "cell_type": "code",
   "execution_count": 21,
   "metadata": {},
   "outputs": [],
   "source": [
    "df_rfm['idno'] = df_rfm['idno'].astype('int')"
   ]
  },
  {
   "cell_type": "code",
   "execution_count": 22,
   "metadata": {},
   "outputs": [
    {
     "data": {
      "text/html": [
       "<div>\n",
       "<style scoped>\n",
       "    .dataframe tbody tr th:only-of-type {\n",
       "        vertical-align: middle;\n",
       "    }\n",
       "\n",
       "    .dataframe tbody tr th {\n",
       "        vertical-align: top;\n",
       "    }\n",
       "\n",
       "    .dataframe thead th {\n",
       "        text-align: right;\n",
       "    }\n",
       "</style>\n",
       "<table border=\"1\" class=\"dataframe\">\n",
       "  <thead>\n",
       "    <tr style=\"text-align: right;\">\n",
       "      <th></th>\n",
       "      <th>idno</th>\n",
       "      <th>recency</th>\n",
       "      <th>frequency</th>\n",
       "      <th>monetary_value</th>\n",
       "    </tr>\n",
       "  </thead>\n",
       "  <tbody>\n",
       "    <tr>\n",
       "      <th>0</th>\n",
       "      <td>1112</td>\n",
       "      <td>62.0</td>\n",
       "      <td>15</td>\n",
       "      <td>1012</td>\n",
       "    </tr>\n",
       "    <tr>\n",
       "      <th>1</th>\n",
       "      <td>1113</td>\n",
       "      <td>36.0</td>\n",
       "      <td>20</td>\n",
       "      <td>1490</td>\n",
       "    </tr>\n",
       "    <tr>\n",
       "      <th>2</th>\n",
       "      <td>1114</td>\n",
       "      <td>33.0</td>\n",
       "      <td>19</td>\n",
       "      <td>1432</td>\n",
       "    </tr>\n",
       "    <tr>\n",
       "      <th>3</th>\n",
       "      <td>1115</td>\n",
       "      <td>12.0</td>\n",
       "      <td>22</td>\n",
       "      <td>1659</td>\n",
       "    </tr>\n",
       "    <tr>\n",
       "      <th>4</th>\n",
       "      <td>1116</td>\n",
       "      <td>204.0</td>\n",
       "      <td>13</td>\n",
       "      <td>857</td>\n",
       "    </tr>\n",
       "    <tr>\n",
       "      <th>...</th>\n",
       "      <td>...</td>\n",
       "      <td>...</td>\n",
       "      <td>...</td>\n",
       "      <td>...</td>\n",
       "    </tr>\n",
       "    <tr>\n",
       "      <th>6884</th>\n",
       "      <td>8996</td>\n",
       "      <td>98.0</td>\n",
       "      <td>13</td>\n",
       "      <td>582</td>\n",
       "    </tr>\n",
       "    <tr>\n",
       "      <th>6885</th>\n",
       "      <td>8997</td>\n",
       "      <td>262.0</td>\n",
       "      <td>14</td>\n",
       "      <td>543</td>\n",
       "    </tr>\n",
       "    <tr>\n",
       "      <th>6886</th>\n",
       "      <td>8998</td>\n",
       "      <td>85.0</td>\n",
       "      <td>13</td>\n",
       "      <td>624</td>\n",
       "    </tr>\n",
       "    <tr>\n",
       "      <th>6887</th>\n",
       "      <td>8999</td>\n",
       "      <td>258.0</td>\n",
       "      <td>12</td>\n",
       "      <td>383</td>\n",
       "    </tr>\n",
       "    <tr>\n",
       "      <th>6888</th>\n",
       "      <td>9000</td>\n",
       "      <td>17.0</td>\n",
       "      <td>13</td>\n",
       "      <td>533</td>\n",
       "    </tr>\n",
       "  </tbody>\n",
       "</table>\n",
       "<p>6889 rows × 4 columns</p>\n",
       "</div>"
      ],
      "text/plain": [
       "      idno  recency  frequency  monetary_value\n",
       "0     1112     62.0         15            1012\n",
       "1     1113     36.0         20            1490\n",
       "2     1114     33.0         19            1432\n",
       "3     1115     12.0         22            1659\n",
       "4     1116    204.0         13             857\n",
       "...    ...      ...        ...             ...\n",
       "6884  8996     98.0         13             582\n",
       "6885  8997    262.0         14             543\n",
       "6886  8998     85.0         13             624\n",
       "6887  8999    258.0         12             383\n",
       "6888  9000     17.0         13             533\n",
       "\n",
       "[6889 rows x 4 columns]"
      ]
     },
     "execution_count": 22,
     "metadata": {},
     "output_type": "execute_result"
    }
   ],
   "source": [
    "df_k = df_rfm[['idno','recency','frequency','monetary_value']]\n",
    "df_k"
   ]
  },
  {
   "cell_type": "code",
   "execution_count": 23,
   "metadata": {},
   "outputs": [],
   "source": [
    "recency = df_k[['recency']]\n",
    "frequency = df_k[['frequency']]\n",
    "monetary_value = df_k[['monetary_value']]"
   ]
  },
  {
   "cell_type": "code",
   "execution_count": 24,
   "metadata": {},
   "outputs": [
    {
     "data": {
      "text/html": [
       "<div>\n",
       "<style scoped>\n",
       "    .dataframe tbody tr th:only-of-type {\n",
       "        vertical-align: middle;\n",
       "    }\n",
       "\n",
       "    .dataframe tbody tr th {\n",
       "        vertical-align: top;\n",
       "    }\n",
       "\n",
       "    .dataframe thead th {\n",
       "        text-align: right;\n",
       "    }\n",
       "</style>\n",
       "<table border=\"1\" class=\"dataframe\">\n",
       "  <thead>\n",
       "    <tr style=\"text-align: right;\">\n",
       "      <th></th>\n",
       "      <th>count</th>\n",
       "      <th>mean</th>\n",
       "      <th>std</th>\n",
       "      <th>min</th>\n",
       "      <th>25%</th>\n",
       "      <th>50%</th>\n",
       "      <th>75%</th>\n",
       "      <th>max</th>\n",
       "    </tr>\n",
       "    <tr>\n",
       "      <th>RecencyCluster</th>\n",
       "      <th></th>\n",
       "      <th></th>\n",
       "      <th></th>\n",
       "      <th></th>\n",
       "      <th></th>\n",
       "      <th></th>\n",
       "      <th></th>\n",
       "      <th></th>\n",
       "    </tr>\n",
       "  </thead>\n",
       "  <tbody>\n",
       "    <tr>\n",
       "      <th>0</th>\n",
       "      <td>252.0</td>\n",
       "      <td>374.583333</td>\n",
       "      <td>99.241009</td>\n",
       "      <td>275.0</td>\n",
       "      <td>300.75</td>\n",
       "      <td>351.5</td>\n",
       "      <td>407.25</td>\n",
       "      <td>858.0</td>\n",
       "    </tr>\n",
       "    <tr>\n",
       "      <th>1</th>\n",
       "      <td>769.0</td>\n",
       "      <td>200.295189</td>\n",
       "      <td>32.647143</td>\n",
       "      <td>156.0</td>\n",
       "      <td>171.00</td>\n",
       "      <td>195.0</td>\n",
       "      <td>225.00</td>\n",
       "      <td>274.0</td>\n",
       "    </tr>\n",
       "    <tr>\n",
       "      <th>2</th>\n",
       "      <td>1243.0</td>\n",
       "      <td>117.756235</td>\n",
       "      <td>18.630208</td>\n",
       "      <td>89.0</td>\n",
       "      <td>102.00</td>\n",
       "      <td>116.0</td>\n",
       "      <td>132.00</td>\n",
       "      <td>155.0</td>\n",
       "    </tr>\n",
       "    <tr>\n",
       "      <th>3</th>\n",
       "      <td>1953.0</td>\n",
       "      <td>60.997440</td>\n",
       "      <td>14.492031</td>\n",
       "      <td>39.0</td>\n",
       "      <td>48.00</td>\n",
       "      <td>60.0</td>\n",
       "      <td>73.00</td>\n",
       "      <td>88.0</td>\n",
       "    </tr>\n",
       "    <tr>\n",
       "      <th>4</th>\n",
       "      <td>2672.0</td>\n",
       "      <td>17.887725</td>\n",
       "      <td>10.899052</td>\n",
       "      <td>1.0</td>\n",
       "      <td>8.00</td>\n",
       "      <td>17.0</td>\n",
       "      <td>27.00</td>\n",
       "      <td>38.0</td>\n",
       "    </tr>\n",
       "  </tbody>\n",
       "</table>\n",
       "</div>"
      ],
      "text/plain": [
       "                 count        mean        std    min     25%    50%     75%  \\\n",
       "RecencyCluster                                                                \n",
       "0                252.0  374.583333  99.241009  275.0  300.75  351.5  407.25   \n",
       "1                769.0  200.295189  32.647143  156.0  171.00  195.0  225.00   \n",
       "2               1243.0  117.756235  18.630208   89.0  102.00  116.0  132.00   \n",
       "3               1953.0   60.997440  14.492031   39.0   48.00   60.0   73.00   \n",
       "4               2672.0   17.887725  10.899052    1.0    8.00   17.0   27.00   \n",
       "\n",
       "                  max  \n",
       "RecencyCluster         \n",
       "0               858.0  \n",
       "1               274.0  \n",
       "2               155.0  \n",
       "3                88.0  \n",
       "4                38.0  "
      ]
     },
     "execution_count": 24,
     "metadata": {},
     "output_type": "execute_result"
    }
   ],
   "source": [
    "kmedoids = KMedoids(n_clusters=5, random_state=0, max_iter=1000,init='k-medoids++',metric='euclidean').fit(recency)\n",
    "df_k['RecencyCluster'] = kmedoids.predict(recency)\n",
    "\n",
    "#function for ordering cluster numbers\n",
    "def order_cluster(cluster_field_name, target_field_name,df,ascending):\n",
    "    new_cluster_field_name = 'new_' + cluster_field_name\n",
    "    df_new = df.groupby(cluster_field_name)[target_field_name].mean().reset_index()\n",
    "    df_new = df_new.sort_values(by=target_field_name,ascending=ascending).reset_index(drop=True)\n",
    "    df_new['index'] = df_new.index\n",
    "    df_final = pd.merge(df,df_new[[cluster_field_name,'index']], on=cluster_field_name)\n",
    "    df_final = df_final.drop([cluster_field_name],axis=1)\n",
    "    df_final = df_final.rename(columns={\"index\":cluster_field_name})\n",
    "    return df_final\n",
    "\n",
    "df_k = order_cluster('RecencyCluster', 'recency',df_k,False)\n",
    "#see details of each cluster\n",
    "df_k.groupby('RecencyCluster')['recency'].describe()"
   ]
  },
  {
   "cell_type": "code",
   "execution_count": 25,
   "metadata": {},
   "outputs": [
    {
     "data": {
      "text/html": [
       "<div>\n",
       "<style scoped>\n",
       "    .dataframe tbody tr th:only-of-type {\n",
       "        vertical-align: middle;\n",
       "    }\n",
       "\n",
       "    .dataframe tbody tr th {\n",
       "        vertical-align: top;\n",
       "    }\n",
       "\n",
       "    .dataframe thead th {\n",
       "        text-align: right;\n",
       "    }\n",
       "</style>\n",
       "<table border=\"1\" class=\"dataframe\">\n",
       "  <thead>\n",
       "    <tr style=\"text-align: right;\">\n",
       "      <th></th>\n",
       "      <th>count</th>\n",
       "      <th>mean</th>\n",
       "      <th>std</th>\n",
       "      <th>min</th>\n",
       "      <th>25%</th>\n",
       "      <th>50%</th>\n",
       "      <th>75%</th>\n",
       "      <th>max</th>\n",
       "    </tr>\n",
       "    <tr>\n",
       "      <th>FrequencyCluster</th>\n",
       "      <th></th>\n",
       "      <th></th>\n",
       "      <th></th>\n",
       "      <th></th>\n",
       "      <th></th>\n",
       "      <th></th>\n",
       "      <th></th>\n",
       "      <th></th>\n",
       "    </tr>\n",
       "  </thead>\n",
       "  <tbody>\n",
       "    <tr>\n",
       "      <th>0</th>\n",
       "      <td>297.0</td>\n",
       "      <td>16.178451</td>\n",
       "      <td>5.145696</td>\n",
       "      <td>4.0</td>\n",
       "      <td>13.0</td>\n",
       "      <td>16.0</td>\n",
       "      <td>20.0</td>\n",
       "      <td>35.0</td>\n",
       "    </tr>\n",
       "    <tr>\n",
       "      <th>1</th>\n",
       "      <td>1446.0</td>\n",
       "      <td>17.093361</td>\n",
       "      <td>5.279614</td>\n",
       "      <td>4.0</td>\n",
       "      <td>13.0</td>\n",
       "      <td>17.0</td>\n",
       "      <td>21.0</td>\n",
       "      <td>36.0</td>\n",
       "    </tr>\n",
       "    <tr>\n",
       "      <th>2</th>\n",
       "      <td>2390.0</td>\n",
       "      <td>18.327197</td>\n",
       "      <td>5.123266</td>\n",
       "      <td>4.0</td>\n",
       "      <td>15.0</td>\n",
       "      <td>18.0</td>\n",
       "      <td>22.0</td>\n",
       "      <td>35.0</td>\n",
       "    </tr>\n",
       "    <tr>\n",
       "      <th>3</th>\n",
       "      <td>781.0</td>\n",
       "      <td>18.647887</td>\n",
       "      <td>4.890358</td>\n",
       "      <td>4.0</td>\n",
       "      <td>15.0</td>\n",
       "      <td>19.0</td>\n",
       "      <td>22.0</td>\n",
       "      <td>33.0</td>\n",
       "    </tr>\n",
       "    <tr>\n",
       "      <th>4</th>\n",
       "      <td>1975.0</td>\n",
       "      <td>18.790886</td>\n",
       "      <td>5.153502</td>\n",
       "      <td>4.0</td>\n",
       "      <td>15.0</td>\n",
       "      <td>19.0</td>\n",
       "      <td>22.0</td>\n",
       "      <td>39.0</td>\n",
       "    </tr>\n",
       "  </tbody>\n",
       "</table>\n",
       "</div>"
      ],
      "text/plain": [
       "                   count       mean       std  min   25%   50%   75%   max\n",
       "FrequencyCluster                                                          \n",
       "0                  297.0  16.178451  5.145696  4.0  13.0  16.0  20.0  35.0\n",
       "1                 1446.0  17.093361  5.279614  4.0  13.0  17.0  21.0  36.0\n",
       "2                 2390.0  18.327197  5.123266  4.0  15.0  18.0  22.0  35.0\n",
       "3                  781.0  18.647887  4.890358  4.0  15.0  19.0  22.0  33.0\n",
       "4                 1975.0  18.790886  5.153502  4.0  15.0  19.0  22.0  39.0"
      ]
     },
     "execution_count": 25,
     "metadata": {},
     "output_type": "execute_result"
    }
   ],
   "source": [
    "kmedoids = KMedoids(n_clusters=5, random_state=0, max_iter=1000,init='k-medoids++',metric='euclidean').fit(frequency)\n",
    "df_k['FrequencyCluster'] = kmedoids.predict(frequency)\n",
    "\n",
    "#order the frequency cluster\n",
    "df_k = order_cluster('FrequencyCluster', 'frequency',df_k,True)\n",
    "\n",
    "#see details of each cluster\n",
    "df_k.groupby('FrequencyCluster')['frequency'].describe()"
   ]
  },
  {
   "cell_type": "code",
   "execution_count": 26,
   "metadata": {},
   "outputs": [
    {
     "data": {
      "text/html": [
       "<div>\n",
       "<style scoped>\n",
       "    .dataframe tbody tr th:only-of-type {\n",
       "        vertical-align: middle;\n",
       "    }\n",
       "\n",
       "    .dataframe tbody tr th {\n",
       "        vertical-align: top;\n",
       "    }\n",
       "\n",
       "    .dataframe thead th {\n",
       "        text-align: right;\n",
       "    }\n",
       "</style>\n",
       "<table border=\"1\" class=\"dataframe\">\n",
       "  <thead>\n",
       "    <tr style=\"text-align: right;\">\n",
       "      <th></th>\n",
       "      <th>count</th>\n",
       "      <th>mean</th>\n",
       "      <th>std</th>\n",
       "      <th>min</th>\n",
       "      <th>25%</th>\n",
       "      <th>50%</th>\n",
       "      <th>75%</th>\n",
       "      <th>max</th>\n",
       "    </tr>\n",
       "    <tr>\n",
       "      <th>MonetaryCluster</th>\n",
       "      <th></th>\n",
       "      <th></th>\n",
       "      <th></th>\n",
       "      <th></th>\n",
       "      <th></th>\n",
       "      <th></th>\n",
       "      <th></th>\n",
       "      <th></th>\n",
       "    </tr>\n",
       "  </thead>\n",
       "  <tbody>\n",
       "    <tr>\n",
       "      <th>0</th>\n",
       "      <td>1331.0</td>\n",
       "      <td>1099.361382</td>\n",
       "      <td>469.636663</td>\n",
       "      <td>188.0</td>\n",
       "      <td>669.0</td>\n",
       "      <td>1142.0</td>\n",
       "      <td>1451.50</td>\n",
       "      <td>2612.0</td>\n",
       "    </tr>\n",
       "    <tr>\n",
       "      <th>1</th>\n",
       "      <td>1027.0</td>\n",
       "      <td>1150.008763</td>\n",
       "      <td>464.465069</td>\n",
       "      <td>149.0</td>\n",
       "      <td>747.5</td>\n",
       "      <td>1194.0</td>\n",
       "      <td>1504.50</td>\n",
       "      <td>2362.0</td>\n",
       "    </tr>\n",
       "    <tr>\n",
       "      <th>2</th>\n",
       "      <td>1236.0</td>\n",
       "      <td>1197.645631</td>\n",
       "      <td>473.406594</td>\n",
       "      <td>157.0</td>\n",
       "      <td>810.5</td>\n",
       "      <td>1256.0</td>\n",
       "      <td>1541.25</td>\n",
       "      <td>2462.0</td>\n",
       "    </tr>\n",
       "    <tr>\n",
       "      <th>3</th>\n",
       "      <td>1706.0</td>\n",
       "      <td>1207.562134</td>\n",
       "      <td>465.020170</td>\n",
       "      <td>164.0</td>\n",
       "      <td>824.0</td>\n",
       "      <td>1257.0</td>\n",
       "      <td>1541.50</td>\n",
       "      <td>2933.0</td>\n",
       "    </tr>\n",
       "    <tr>\n",
       "      <th>4</th>\n",
       "      <td>1589.0</td>\n",
       "      <td>1220.446193</td>\n",
       "      <td>449.380353</td>\n",
       "      <td>187.0</td>\n",
       "      <td>881.0</td>\n",
       "      <td>1271.0</td>\n",
       "      <td>1549.00</td>\n",
       "      <td>2506.0</td>\n",
       "    </tr>\n",
       "  </tbody>\n",
       "</table>\n",
       "</div>"
      ],
      "text/plain": [
       "                  count         mean         std    min    25%     50%  \\\n",
       "MonetaryCluster                                                          \n",
       "0                1331.0  1099.361382  469.636663  188.0  669.0  1142.0   \n",
       "1                1027.0  1150.008763  464.465069  149.0  747.5  1194.0   \n",
       "2                1236.0  1197.645631  473.406594  157.0  810.5  1256.0   \n",
       "3                1706.0  1207.562134  465.020170  164.0  824.0  1257.0   \n",
       "4                1589.0  1220.446193  449.380353  187.0  881.0  1271.0   \n",
       "\n",
       "                     75%     max  \n",
       "MonetaryCluster                   \n",
       "0                1451.50  2612.0  \n",
       "1                1504.50  2362.0  \n",
       "2                1541.25  2462.0  \n",
       "3                1541.50  2933.0  \n",
       "4                1549.00  2506.0  "
      ]
     },
     "execution_count": 26,
     "metadata": {},
     "output_type": "execute_result"
    }
   ],
   "source": [
    "kmedoids = KMedoids(n_clusters=5, random_state=0, max_iter=1000,init='k-medoids++',metric='euclidean').fit(monetary_value)\n",
    "df_k['MonetaryCluster'] = kmedoids.predict(monetary_value)\n",
    "\n",
    "#order the frequency cluster\n",
    "df_k = order_cluster('MonetaryCluster', 'monetary_value',df_k,True)\n",
    "\n",
    "#see details of each cluster\n",
    "df_k.groupby('MonetaryCluster')['monetary_value'].describe()"
   ]
  },
  {
   "cell_type": "code",
   "execution_count": 27,
   "metadata": {},
   "outputs": [
    {
     "data": {
      "text/html": [
       "<div>\n",
       "<style scoped>\n",
       "    .dataframe tbody tr th:only-of-type {\n",
       "        vertical-align: middle;\n",
       "    }\n",
       "\n",
       "    .dataframe tbody tr th {\n",
       "        vertical-align: top;\n",
       "    }\n",
       "\n",
       "    .dataframe thead th {\n",
       "        text-align: right;\n",
       "    }\n",
       "</style>\n",
       "<table border=\"1\" class=\"dataframe\">\n",
       "  <thead>\n",
       "    <tr style=\"text-align: right;\">\n",
       "      <th></th>\n",
       "      <th>idno</th>\n",
       "      <th>recency</th>\n",
       "      <th>frequency</th>\n",
       "      <th>monetary_value</th>\n",
       "      <th>RecencyCluster</th>\n",
       "      <th>FrequencyCluster</th>\n",
       "      <th>MonetaryCluster</th>\n",
       "    </tr>\n",
       "  </thead>\n",
       "  <tbody>\n",
       "    <tr>\n",
       "      <th>0</th>\n",
       "      <td>1112</td>\n",
       "      <td>62.0</td>\n",
       "      <td>15</td>\n",
       "      <td>1012</td>\n",
       "      <td>3</td>\n",
       "      <td>2</td>\n",
       "      <td>4</td>\n",
       "    </tr>\n",
       "    <tr>\n",
       "      <th>3493</th>\n",
       "      <td>1113</td>\n",
       "      <td>36.0</td>\n",
       "      <td>20</td>\n",
       "      <td>1490</td>\n",
       "      <td>4</td>\n",
       "      <td>2</td>\n",
       "      <td>2</td>\n",
       "    </tr>\n",
       "    <tr>\n",
       "      <th>1825</th>\n",
       "      <td>1114</td>\n",
       "      <td>33.0</td>\n",
       "      <td>19</td>\n",
       "      <td>1432</td>\n",
       "      <td>4</td>\n",
       "      <td>2</td>\n",
       "      <td>3</td>\n",
       "    </tr>\n",
       "    <tr>\n",
       "      <th>940</th>\n",
       "      <td>1115</td>\n",
       "      <td>12.0</td>\n",
       "      <td>22</td>\n",
       "      <td>1659</td>\n",
       "      <td>4</td>\n",
       "      <td>4</td>\n",
       "      <td>4</td>\n",
       "    </tr>\n",
       "    <tr>\n",
       "      <th>1288</th>\n",
       "      <td>1116</td>\n",
       "      <td>204.0</td>\n",
       "      <td>13</td>\n",
       "      <td>857</td>\n",
       "      <td>1</td>\n",
       "      <td>4</td>\n",
       "      <td>4</td>\n",
       "    </tr>\n",
       "    <tr>\n",
       "      <th>...</th>\n",
       "      <td>...</td>\n",
       "      <td>...</td>\n",
       "      <td>...</td>\n",
       "      <td>...</td>\n",
       "      <td>...</td>\n",
       "      <td>...</td>\n",
       "      <td>...</td>\n",
       "    </tr>\n",
       "    <tr>\n",
       "      <th>3070</th>\n",
       "      <td>8996</td>\n",
       "      <td>98.0</td>\n",
       "      <td>13</td>\n",
       "      <td>582</td>\n",
       "      <td>2</td>\n",
       "      <td>4</td>\n",
       "      <td>3</td>\n",
       "    </tr>\n",
       "    <tr>\n",
       "      <th>6729</th>\n",
       "      <td>8997</td>\n",
       "      <td>262.0</td>\n",
       "      <td>14</td>\n",
       "      <td>543</td>\n",
       "      <td>1</td>\n",
       "      <td>0</td>\n",
       "      <td>0</td>\n",
       "    </tr>\n",
       "    <tr>\n",
       "      <th>2632</th>\n",
       "      <td>8998</td>\n",
       "      <td>85.0</td>\n",
       "      <td>13</td>\n",
       "      <td>624</td>\n",
       "      <td>3</td>\n",
       "      <td>4</td>\n",
       "      <td>3</td>\n",
       "    </tr>\n",
       "    <tr>\n",
       "      <th>3811</th>\n",
       "      <td>8999</td>\n",
       "      <td>258.0</td>\n",
       "      <td>12</td>\n",
       "      <td>383</td>\n",
       "      <td>1</td>\n",
       "      <td>2</td>\n",
       "      <td>2</td>\n",
       "    </tr>\n",
       "    <tr>\n",
       "      <th>1497</th>\n",
       "      <td>9000</td>\n",
       "      <td>17.0</td>\n",
       "      <td>13</td>\n",
       "      <td>533</td>\n",
       "      <td>4</td>\n",
       "      <td>1</td>\n",
       "      <td>4</td>\n",
       "    </tr>\n",
       "  </tbody>\n",
       "</table>\n",
       "<p>6889 rows × 7 columns</p>\n",
       "</div>"
      ],
      "text/plain": [
       "      idno  recency  frequency  monetary_value  RecencyCluster  \\\n",
       "0     1112     62.0         15            1012               3   \n",
       "3493  1113     36.0         20            1490               4   \n",
       "1825  1114     33.0         19            1432               4   \n",
       "940   1115     12.0         22            1659               4   \n",
       "1288  1116    204.0         13             857               1   \n",
       "...    ...      ...        ...             ...             ...   \n",
       "3070  8996     98.0         13             582               2   \n",
       "6729  8997    262.0         14             543               1   \n",
       "2632  8998     85.0         13             624               3   \n",
       "3811  8999    258.0         12             383               1   \n",
       "1497  9000     17.0         13             533               4   \n",
       "\n",
       "      FrequencyCluster  MonetaryCluster  \n",
       "0                    2                4  \n",
       "3493                 2                2  \n",
       "1825                 2                3  \n",
       "940                  4                4  \n",
       "1288                 4                4  \n",
       "...                ...              ...  \n",
       "3070                 4                3  \n",
       "6729                 0                0  \n",
       "2632                 4                3  \n",
       "3811                 2                2  \n",
       "1497                 1                4  \n",
       "\n",
       "[6889 rows x 7 columns]"
      ]
     },
     "execution_count": 27,
     "metadata": {},
     "output_type": "execute_result"
    }
   ],
   "source": [
    "df_k = df_k.sort_values(['idno'])\n",
    "df_k"
   ]
  },
  {
   "cell_type": "code",
   "execution_count": 28,
   "metadata": {},
   "outputs": [],
   "source": [
    "#segt_map = {\n",
    "#    r'30': 'Promising',\n",
    "#    r'23': 'Loyal customers',\n",
    "#    r'24': 'Loyal customers',\n",
    "#    r'33': 'Loyal customers',\n",
    "#    r'34': 'Loyal customers',\n",
    "#    r'43': 'Loyal customers',\n",
    "#    r'32': 'Potential loyalist',\n",
    "#    r'31': 'Potential loyalist',\n",
    "#    r'42': 'Potential loyalist',\n",
    "#    r'41': 'Potential loyalist',\n",
    "#    r'21': 'Need attention',\n",
    "#    r'22': 'Need attention',\n",
    "#    r'12': 'Need attention',\n",
    "#    r'11': 'Need attention',\n",
    "#    r'40': 'New customers',\n",
    "#    r'20': 'About to sleep',\n",
    "#    r'14': 'Cant loose them',\n",
    "#    r'04': 'Cant loose them',\n",
    "#    r'10': 'Lost',\n",
    "#    r'00': 'Lost',\n",
    "#    r'01': 'Lost',\n",
    "#    r'02': 'At risk',\n",
    "#    r'03': 'At risk',\n",
    "#    r'13': 'At risk',\n",
    "#    r'44': 'Champions',\n",
    "#}"
   ]
  },
  {
   "cell_type": "code",
   "execution_count": 29,
   "metadata": {},
   "outputs": [
    {
     "data": {
      "text/html": [
       "<div>\n",
       "<style scoped>\n",
       "    .dataframe tbody tr th:only-of-type {\n",
       "        vertical-align: middle;\n",
       "    }\n",
       "\n",
       "    .dataframe tbody tr th {\n",
       "        vertical-align: top;\n",
       "    }\n",
       "\n",
       "    .dataframe thead th {\n",
       "        text-align: right;\n",
       "    }\n",
       "</style>\n",
       "<table border=\"1\" class=\"dataframe\">\n",
       "  <thead>\n",
       "    <tr style=\"text-align: right;\">\n",
       "      <th></th>\n",
       "      <th>idno</th>\n",
       "      <th>recency</th>\n",
       "      <th>frequency</th>\n",
       "      <th>monetary_value</th>\n",
       "      <th>RecencyCluster</th>\n",
       "      <th>FrequencyCluster</th>\n",
       "      <th>MonetaryCluster</th>\n",
       "      <th>Segment</th>\n",
       "    </tr>\n",
       "  </thead>\n",
       "  <tbody>\n",
       "    <tr>\n",
       "      <th>0</th>\n",
       "      <td>1112</td>\n",
       "      <td>62.0</td>\n",
       "      <td>15</td>\n",
       "      <td>1012</td>\n",
       "      <td>3</td>\n",
       "      <td>2</td>\n",
       "      <td>4</td>\n",
       "      <td>8</td>\n",
       "    </tr>\n",
       "    <tr>\n",
       "      <th>3493</th>\n",
       "      <td>1113</td>\n",
       "      <td>36.0</td>\n",
       "      <td>20</td>\n",
       "      <td>1490</td>\n",
       "      <td>4</td>\n",
       "      <td>2</td>\n",
       "      <td>2</td>\n",
       "      <td>8</td>\n",
       "    </tr>\n",
       "    <tr>\n",
       "      <th>1825</th>\n",
       "      <td>1114</td>\n",
       "      <td>33.0</td>\n",
       "      <td>19</td>\n",
       "      <td>1432</td>\n",
       "      <td>4</td>\n",
       "      <td>2</td>\n",
       "      <td>3</td>\n",
       "      <td>8</td>\n",
       "    </tr>\n",
       "    <tr>\n",
       "      <th>940</th>\n",
       "      <td>1115</td>\n",
       "      <td>12.0</td>\n",
       "      <td>22</td>\n",
       "      <td>1659</td>\n",
       "      <td>4</td>\n",
       "      <td>4</td>\n",
       "      <td>4</td>\n",
       "      <td>10</td>\n",
       "    </tr>\n",
       "    <tr>\n",
       "      <th>1288</th>\n",
       "      <td>1116</td>\n",
       "      <td>204.0</td>\n",
       "      <td>13</td>\n",
       "      <td>857</td>\n",
       "      <td>1</td>\n",
       "      <td>4</td>\n",
       "      <td>4</td>\n",
       "      <td>6</td>\n",
       "    </tr>\n",
       "  </tbody>\n",
       "</table>\n",
       "</div>"
      ],
      "text/plain": [
       "      idno  recency  frequency  monetary_value  RecencyCluster  \\\n",
       "0     1112     62.0         15            1012               3   \n",
       "3493  1113     36.0         20            1490               4   \n",
       "1825  1114     33.0         19            1432               4   \n",
       "940   1115     12.0         22            1659               4   \n",
       "1288  1116    204.0         13             857               1   \n",
       "\n",
       "      FrequencyCluster  MonetaryCluster Segment  \n",
       "0                    2                4       8  \n",
       "3493                 2                2       8  \n",
       "1825                 2                3       8  \n",
       "940                  4                4      10  \n",
       "1288                 4                4       6  "
      ]
     },
     "execution_count": 29,
     "metadata": {},
     "output_type": "execute_result"
    }
   ],
   "source": [
    "segt_map = {\n",
    "    r'30': '7',\n",
    "    r'23': '9',\n",
    "    r'24': '9',\n",
    "    r'33': '9',\n",
    "    r'34': '9',\n",
    "    r'43': '9',\n",
    "    r'32': '8',\n",
    "    r'31': '8',\n",
    "    r'42': '8',\n",
    "    r'41': '8',\n",
    "    r'21': '5',\n",
    "    r'22': '5',\n",
    "    r'12': '5',\n",
    "    r'11': '5',\n",
    "    r'40': '4',\n",
    "    r'20': '3',\n",
    "    r'14': '6',\n",
    "    r'04': '6',\n",
    "    r'10': '1',\n",
    "    r'00': '1',\n",
    "    r'01': '1',\n",
    "    r'02': '2',\n",
    "    r'03': '2',\n",
    "    r'13': '2',\n",
    "    r'44': '10',\n",
    "}\n",
    "\n",
    "df_k['Segment'] = df_k['RecencyCluster'].map(str) + df_k['FrequencyCluster'].map(str)\n",
    "df_k['Segment'] = df_k['Segment'].replace(segt_map, regex=True)\n",
    "df_k.head()"
   ]
  },
  {
   "cell_type": "code",
   "execution_count": 30,
   "metadata": {},
   "outputs": [
    {
     "data": {
      "image/png": "[encoded data removed]",
      "text/plain": [
       "<Figure size 432x288 with 1 Axes>"
      ]
     },
     "metadata": {
      "needs_background": "light"
     },
     "output_type": "display_data"
    }
   ],
   "source": [
    "segments_counts = df_k['Segment'].value_counts().sort_values(ascending=True)\n",
    "\n",
    "fig, ax = plt.subplots()\n",
    "\n",
    "bars = ax.barh(range(len(segments_counts)),\n",
    "              segments_counts,\n",
    "              color='silver')\n",
    "ax.set_frame_on(False)\n",
    "ax.tick_params(left=False,\n",
    "               bottom=False,\n",
    "               labelbottom=False)\n",
    "ax.set_yticks(range(len(segments_counts)))\n",
    "ax.set_yticklabels(segments_counts.index)\n",
    "\n",
    "for i, bar in enumerate(bars):\n",
    "        value = bar.get_width()\n",
    "        if segments_counts.index[i] in ['10', '8']:\n",
    "            bar.set_color('firebrick')\n",
    "        ax.text(value,\n",
    "                bar.get_y() + bar.get_height()/2,\n",
    "                '{:,} ({:}%)'.format(int(value),\n",
    "                                   int(value*100/segments_counts.sum())),\n",
    "                va='center',\n",
    "                ha='left'\n",
    "               )\n",
    "\n",
    "plt.show()"
   ]
  },
  {
   "cell_type": "code",
   "execution_count": 31,
   "metadata": {},
   "outputs": [
    {
     "data": {
      "text/html": [
       "<div>\n",
       "<style scoped>\n",
       "    .dataframe tbody tr th:only-of-type {\n",
       "        vertical-align: middle;\n",
       "    }\n",
       "\n",
       "    .dataframe tbody tr th {\n",
       "        vertical-align: top;\n",
       "    }\n",
       "\n",
       "    .dataframe thead th {\n",
       "        text-align: right;\n",
       "    }\n",
       "</style>\n",
       "<table border=\"1\" class=\"dataframe\">\n",
       "  <thead>\n",
       "    <tr style=\"text-align: right;\">\n",
       "      <th></th>\n",
       "      <th>customer_id</th>\n",
       "      <th>recency</th>\n",
       "      <th>frequency</th>\n",
       "      <th>monetary_value</th>\n",
       "      <th>Segment</th>\n",
       "    </tr>\n",
       "  </thead>\n",
       "  <tbody>\n",
       "    <tr>\n",
       "      <th>0</th>\n",
       "      <td>CS1112</td>\n",
       "      <td>62.0</td>\n",
       "      <td>15</td>\n",
       "      <td>1012</td>\n",
       "      <td>8</td>\n",
       "    </tr>\n",
       "    <tr>\n",
       "      <th>1</th>\n",
       "      <td>CS1113</td>\n",
       "      <td>36.0</td>\n",
       "      <td>20</td>\n",
       "      <td>1490</td>\n",
       "      <td>8</td>\n",
       "    </tr>\n",
       "    <tr>\n",
       "      <th>2</th>\n",
       "      <td>CS1114</td>\n",
       "      <td>33.0</td>\n",
       "      <td>19</td>\n",
       "      <td>1432</td>\n",
       "      <td>8</td>\n",
       "    </tr>\n",
       "    <tr>\n",
       "      <th>3</th>\n",
       "      <td>CS1115</td>\n",
       "      <td>12.0</td>\n",
       "      <td>22</td>\n",
       "      <td>1659</td>\n",
       "      <td>10</td>\n",
       "    </tr>\n",
       "    <tr>\n",
       "      <th>4</th>\n",
       "      <td>CS1116</td>\n",
       "      <td>204.0</td>\n",
       "      <td>13</td>\n",
       "      <td>857</td>\n",
       "      <td>6</td>\n",
       "    </tr>\n",
       "  </tbody>\n",
       "</table>\n",
       "</div>"
      ],
      "text/plain": [
       "  customer_id  recency  frequency  monetary_value Segment\n",
       "0      CS1112     62.0         15            1012       8\n",
       "1      CS1113     36.0         20            1490       8\n",
       "2      CS1114     33.0         19            1432       8\n",
       "3      CS1115     12.0         22            1659      10\n",
       "4      CS1116    204.0         13             857       6"
      ]
     },
     "execution_count": 31,
     "metadata": {},
     "output_type": "execute_result"
    }
   ],
   "source": [
    "dataset = pd.merge(df_k,df_rfm)\n",
    "dataset = dataset[['customer_id','recency','frequency','monetary_value','Segment']]\n",
    "dataset.head()"
   ]
  },
  {
   "cell_type": "code",
   "execution_count": 32,
   "metadata": {},
   "outputs": [
    {
     "data": {
      "text/html": [
       "<div>\n",
       "<style scoped>\n",
       "    .dataframe tbody tr th:only-of-type {\n",
       "        vertical-align: middle;\n",
       "    }\n",
       "\n",
       "    .dataframe tbody tr th {\n",
       "        vertical-align: top;\n",
       "    }\n",
       "\n",
       "    .dataframe thead th {\n",
       "        text-align: right;\n",
       "    }\n",
       "</style>\n",
       "<table border=\"1\" class=\"dataframe\">\n",
       "  <thead>\n",
       "    <tr style=\"text-align: right;\">\n",
       "      <th></th>\n",
       "      <th>customer_id</th>\n",
       "      <th>response</th>\n",
       "      <th>recency</th>\n",
       "      <th>frequency</th>\n",
       "      <th>monetary_value</th>\n",
       "      <th>Segment</th>\n",
       "    </tr>\n",
       "  </thead>\n",
       "  <tbody>\n",
       "    <tr>\n",
       "      <th>0</th>\n",
       "      <td>CS1112</td>\n",
       "      <td>0</td>\n",
       "      <td>62.0</td>\n",
       "      <td>15</td>\n",
       "      <td>1012</td>\n",
       "      <td>8</td>\n",
       "    </tr>\n",
       "    <tr>\n",
       "      <th>1</th>\n",
       "      <td>CS1113</td>\n",
       "      <td>0</td>\n",
       "      <td>36.0</td>\n",
       "      <td>20</td>\n",
       "      <td>1490</td>\n",
       "      <td>8</td>\n",
       "    </tr>\n",
       "    <tr>\n",
       "      <th>2</th>\n",
       "      <td>CS1114</td>\n",
       "      <td>1</td>\n",
       "      <td>33.0</td>\n",
       "      <td>19</td>\n",
       "      <td>1432</td>\n",
       "      <td>8</td>\n",
       "    </tr>\n",
       "    <tr>\n",
       "      <th>3</th>\n",
       "      <td>CS1115</td>\n",
       "      <td>1</td>\n",
       "      <td>12.0</td>\n",
       "      <td>22</td>\n",
       "      <td>1659</td>\n",
       "      <td>10</td>\n",
       "    </tr>\n",
       "    <tr>\n",
       "      <th>4</th>\n",
       "      <td>CS1116</td>\n",
       "      <td>1</td>\n",
       "      <td>204.0</td>\n",
       "      <td>13</td>\n",
       "      <td>857</td>\n",
       "      <td>6</td>\n",
       "    </tr>\n",
       "  </tbody>\n",
       "</table>\n",
       "</div>"
      ],
      "text/plain": [
       "  customer_id  response  recency  frequency  monetary_value Segment\n",
       "0      CS1112         0     62.0         15            1012       8\n",
       "1      CS1113         0     36.0         20            1490       8\n",
       "2      CS1114         1     33.0         19            1432       8\n",
       "3      CS1115         1     12.0         22            1659      10\n",
       "4      CS1116         1    204.0         13             857       6"
      ]
     },
     "execution_count": 32,
     "metadata": {},
     "output_type": "execute_result"
    }
   ],
   "source": [
    "data_pre = pd.merge(df_response,dataset)\n",
    "data_pre.head()"
   ]
  },
  {
   "cell_type": "code",
   "execution_count": 33,
   "metadata": {},
   "outputs": [
    {
     "data": {
      "text/html": [
       "<div>\n",
       "<style scoped>\n",
       "    .dataframe tbody tr th:only-of-type {\n",
       "        vertical-align: middle;\n",
       "    }\n",
       "\n",
       "    .dataframe tbody tr th {\n",
       "        vertical-align: top;\n",
       "    }\n",
       "\n",
       "    .dataframe thead th {\n",
       "        text-align: right;\n",
       "    }\n",
       "</style>\n",
       "<table border=\"1\" class=\"dataframe\">\n",
       "  <thead>\n",
       "    <tr style=\"text-align: right;\">\n",
       "      <th></th>\n",
       "      <th>ID</th>\n",
       "      <th>response</th>\n",
       "      <th>recency</th>\n",
       "      <th>frequency</th>\n",
       "      <th>monetary_value</th>\n",
       "      <th>Segment</th>\n",
       "    </tr>\n",
       "  </thead>\n",
       "  <tbody>\n",
       "    <tr>\n",
       "      <th>0</th>\n",
       "      <td>1112</td>\n",
       "      <td>0</td>\n",
       "      <td>62.0</td>\n",
       "      <td>15</td>\n",
       "      <td>1012</td>\n",
       "      <td>8</td>\n",
       "    </tr>\n",
       "    <tr>\n",
       "      <th>1</th>\n",
       "      <td>1113</td>\n",
       "      <td>0</td>\n",
       "      <td>36.0</td>\n",
       "      <td>20</td>\n",
       "      <td>1490</td>\n",
       "      <td>8</td>\n",
       "    </tr>\n",
       "    <tr>\n",
       "      <th>2</th>\n",
       "      <td>1114</td>\n",
       "      <td>1</td>\n",
       "      <td>33.0</td>\n",
       "      <td>19</td>\n",
       "      <td>1432</td>\n",
       "      <td>8</td>\n",
       "    </tr>\n",
       "    <tr>\n",
       "      <th>3</th>\n",
       "      <td>1115</td>\n",
       "      <td>1</td>\n",
       "      <td>12.0</td>\n",
       "      <td>22</td>\n",
       "      <td>1659</td>\n",
       "      <td>10</td>\n",
       "    </tr>\n",
       "    <tr>\n",
       "      <th>4</th>\n",
       "      <td>1116</td>\n",
       "      <td>1</td>\n",
       "      <td>204.0</td>\n",
       "      <td>13</td>\n",
       "      <td>857</td>\n",
       "      <td>6</td>\n",
       "    </tr>\n",
       "  </tbody>\n",
       "</table>\n",
       "</div>"
      ],
      "text/plain": [
       "     ID  response  recency  frequency  monetary_value Segment\n",
       "0  1112         0     62.0         15            1012       8\n",
       "1  1113         0     36.0         20            1490       8\n",
       "2  1114         1     33.0         19            1432       8\n",
       "3  1115         1     12.0         22            1659      10\n",
       "4  1116         1    204.0         13             857       6"
      ]
     },
     "execution_count": 33,
     "metadata": {},
     "output_type": "execute_result"
    }
   ],
   "source": [
    "data_pre['ID'] = data_pre['customer_id'].str[2:]\n",
    "data_pre = data_pre[['ID','response','recency','frequency','monetary_value','Segment']]\n",
    "data_pre.head()"
   ]
  },
  {
   "cell_type": "code",
   "execution_count": 34,
   "metadata": {},
   "outputs": [],
   "source": [
    "data_pre[['ID','Segment']] = data_pre[['ID','Segment']].astype('int')"
   ]
  },
  {
   "cell_type": "code",
   "execution_count": 35,
   "metadata": {},
   "outputs": [],
   "source": [
    "n_cols = 5\n",
    "n_rows, mod = divmod(len(data_pre.columns[1:]), n_cols)\n",
    "n_rows +=  int(mod > 0)"
   ]
  },
  {
   "cell_type": "code",
   "execution_count": 36,
   "metadata": {},
   "outputs": [],
   "source": [
    "#pip install -U seaborn"
   ]
  },
  {
   "cell_type": "code",
   "execution_count": 37,
   "metadata": {},
   "outputs": [
    {
     "data": {
      "image/png": "[encoded data removed]",
      "text/plain": [
       "<Figure size 1260x126 with 5 Axes>"
      ]
     },
     "metadata": {
      "needs_background": "light"
     },
     "output_type": "display_data"
    }
   ],
   "source": [
    "fig, axes = plt.subplots(n_rows, n_cols, figsize=(n_cols*3.5, n_rows*1.75), tight_layout=True)\n",
    "axes = axes.ravel()\n",
    "for col, ax in zip(data_pre.columns[2:], axes):\n",
    "    sns.histplot(data_pre, x=col, hue='response', ax=ax)\n",
    "plt.show()"
   ]
  },
  {
   "cell_type": "code",
   "execution_count": 38,
   "metadata": {},
   "outputs": [
    {
     "name": "stdout",
     "output_type": "stream",
     "text": [
      "Int64Index([   2,    3,    4,    6,   23,   29,   30,   31,   33,   36,\n",
      "            ...\n",
      "            6428, 6464, 6475, 6528, 6595, 6645, 6728, 6738, 6788, 6854],\n",
      "           dtype='int64', length=647)\n"
     ]
    }
   ],
   "source": [
    "# Define the minority data size and indices\n",
    "minority_class_len = len(data_pre[data_pre['response'] == 1])\n",
    "minority_index_list = data_pre[data_pre['response'] == 1].index\n",
    "print(minority_index_list)"
   ]
  },
  {
   "cell_type": "code",
   "execution_count": 39,
   "metadata": {},
   "outputs": [
    {
     "name": "stdout",
     "output_type": "stream",
     "text": [
      "Int64Index([   0,    1,    5,    7,    8,    9,   10,   11,   12,   13,\n",
      "            ...\n",
      "            6874, 6875, 6876, 6877, 6878, 6879, 6880, 6881, 6882, 6883],\n",
      "           dtype='int64', length=6237)\n"
     ]
    }
   ],
   "source": [
    "#Define the majority data size and indices\n",
    "majority_class_len = len(data_pre[data_pre['response'] == 0])\n",
    "majority_index_list = data_pre[data_pre['response'] == 0].index\n",
    "print(majority_index_list)"
   ]
  },
  {
   "cell_type": "code",
   "execution_count": 40,
   "metadata": {},
   "outputs": [],
   "source": [
    "#Under Sampling"
   ]
  },
  {
   "cell_type": "code",
   "execution_count": 41,
   "metadata": {},
   "outputs": [
    {
     "data": {
      "text/html": [
       "<div>\n",
       "<style scoped>\n",
       "    .dataframe tbody tr th:only-of-type {\n",
       "        vertical-align: middle;\n",
       "    }\n",
       "\n",
       "    .dataframe tbody tr th {\n",
       "        vertical-align: top;\n",
       "    }\n",
       "\n",
       "    .dataframe thead th {\n",
       "        text-align: right;\n",
       "    }\n",
       "</style>\n",
       "<table border=\"1\" class=\"dataframe\">\n",
       "  <thead>\n",
       "    <tr style=\"text-align: right;\">\n",
       "      <th></th>\n",
       "      <th>ID</th>\n",
       "      <th>response</th>\n",
       "      <th>recency</th>\n",
       "      <th>frequency</th>\n",
       "      <th>monetary_value</th>\n",
       "      <th>Segment</th>\n",
       "    </tr>\n",
       "  </thead>\n",
       "  <tbody>\n",
       "    <tr>\n",
       "      <th>0</th>\n",
       "      <td>8014</td>\n",
       "      <td>0</td>\n",
       "      <td>14.0</td>\n",
       "      <td>9</td>\n",
       "      <td>350</td>\n",
       "      <td>10</td>\n",
       "    </tr>\n",
       "    <tr>\n",
       "      <th>1</th>\n",
       "      <td>7886</td>\n",
       "      <td>0</td>\n",
       "      <td>335.0</td>\n",
       "      <td>14</td>\n",
       "      <td>566</td>\n",
       "      <td>1</td>\n",
       "    </tr>\n",
       "    <tr>\n",
       "      <th>2</th>\n",
       "      <td>2470</td>\n",
       "      <td>0</td>\n",
       "      <td>78.0</td>\n",
       "      <td>15</td>\n",
       "      <td>1216</td>\n",
       "      <td>8</td>\n",
       "    </tr>\n",
       "    <tr>\n",
       "      <th>3</th>\n",
       "      <td>4004</td>\n",
       "      <td>0</td>\n",
       "      <td>15.0</td>\n",
       "      <td>23</td>\n",
       "      <td>1683</td>\n",
       "      <td>8</td>\n",
       "    </tr>\n",
       "    <tr>\n",
       "      <th>4</th>\n",
       "      <td>3793</td>\n",
       "      <td>0</td>\n",
       "      <td>27.0</td>\n",
       "      <td>27</td>\n",
       "      <td>1694</td>\n",
       "      <td>10</td>\n",
       "    </tr>\n",
       "  </tbody>\n",
       "</table>\n",
       "</div>"
      ],
      "text/plain": [
       "     ID  response  recency  frequency  monetary_value  Segment\n",
       "0  8014         0     14.0          9             350       10\n",
       "1  7886         0    335.0         14             566        1\n",
       "2  2470         0     78.0         15            1216        8\n",
       "3  4004         0     15.0         23            1683        8\n",
       "4  3793         0     27.0         27            1694       10"
      ]
     },
     "execution_count": 41,
     "metadata": {},
     "output_type": "execute_result"
    }
   ],
   "source": [
    "random_majority = np.random.choice(majority_index_list,\n",
    "                                   minority_class_len,\n",
    "                                   replace = False)\n",
    "under_sample_indexlist = np.concatenate([random_majority,minority_index_list])\n",
    "under_sample = data_pre.loc[under_sample_indexlist]\n",
    "under_sample.reset_index(drop=True, inplace=True)\n",
    "under_sample.head()"
   ]
  },
  {
   "cell_type": "code",
   "execution_count": 42,
   "metadata": {},
   "outputs": [
    {
     "data": {
      "text/html": [
       "<div>\n",
       "<style scoped>\n",
       "    .dataframe tbody tr th:only-of-type {\n",
       "        vertical-align: middle;\n",
       "    }\n",
       "\n",
       "    .dataframe tbody tr th {\n",
       "        vertical-align: top;\n",
       "    }\n",
       "\n",
       "    .dataframe thead th {\n",
       "        text-align: right;\n",
       "    }\n",
       "</style>\n",
       "<table border=\"1\" class=\"dataframe\">\n",
       "  <thead>\n",
       "    <tr style=\"text-align: right;\">\n",
       "      <th></th>\n",
       "      <th>ID</th>\n",
       "    </tr>\n",
       "    <tr>\n",
       "      <th>response</th>\n",
       "      <th></th>\n",
       "    </tr>\n",
       "  </thead>\n",
       "  <tbody>\n",
       "    <tr>\n",
       "      <th>0</th>\n",
       "      <td>647</td>\n",
       "    </tr>\n",
       "    <tr>\n",
       "      <th>1</th>\n",
       "      <td>647</td>\n",
       "    </tr>\n",
       "  </tbody>\n",
       "</table>\n",
       "</div>"
      ],
      "text/plain": [
       "           ID\n",
       "response     \n",
       "0         647\n",
       "1         647"
      ]
     },
     "execution_count": 42,
     "metadata": {},
     "output_type": "execute_result"
    }
   ],
   "source": [
    "label_us = under_sample.groupby('response').agg({'ID': lambda x: len(x)})\n",
    "label_us.head()"
   ]
  },
  {
   "cell_type": "code",
   "execution_count": 43,
   "metadata": {},
   "outputs": [
    {
     "data": {
      "image/png": "[encoded data removed]",
      "text/plain": [
       "<Figure size 360x360 with 1 Axes>"
      ]
     },
     "metadata": {
      "needs_background": "light"
     },
     "output_type": "display_data"
    }
   ],
   "source": [
    "plt.figure(figsize=(5,5))\n",
    "x=range(2)\n",
    "plt.bar(x,label_us['ID'])\n",
    "plt.xticks(label_us.index)\n",
    "plt.title('Label Distribution')\n",
    "plt.xlabel('Convert or Not')\n",
    "plt.ylabel('total_user')\n",
    "plt.show()"
   ]
  },
  {
   "cell_type": "code",
   "execution_count": 44,
   "metadata": {},
   "outputs": [
    {
     "name": "stdout",
     "output_type": "stream",
     "text": [
      "[13:52:06] WARNING: C:/Users/Administrator/workspace/xgboost-win64_release_1.3.0/src/learner.cc:1061: Starting in XGBoost 1.3.0, the default evaluation metric used with the objective 'binary:logistic' was changed from 'error' to 'logloss'. Explicitly set eval_metric if you'd like to restore the old behavior.\n",
      "[13:52:06] WARNING: C:/Users/Administrator/workspace/xgboost-win64_release_1.3.0/src/learner.cc:1061: Starting in XGBoost 1.3.0, the default evaluation metric used with the objective 'binary:logistic' was changed from 'error' to 'logloss'. Explicitly set eval_metric if you'd like to restore the old behavior.\n",
      "[13:52:06] WARNING: C:/Users/Administrator/workspace/xgboost-win64_release_1.3.0/src/learner.cc:1061: Starting in XGBoost 1.3.0, the default evaluation metric used with the objective 'binary:logistic' was changed from 'error' to 'logloss'. Explicitly set eval_metric if you'd like to restore the old behavior.\n",
      "[13:52:06] WARNING: C:/Users/Administrator/workspace/xgboost-win64_release_1.3.0/src/learner.cc:1061: Starting in XGBoost 1.3.0, the default evaluation metric used with the objective 'binary:logistic' was changed from 'error' to 'logloss'. Explicitly set eval_metric if you'd like to restore the old behavior.\n",
      "[13:52:06] WARNING: C:/Users/Administrator/workspace/xgboost-win64_release_1.3.0/src/learner.cc:1061: Starting in XGBoost 1.3.0, the default evaluation metric used with the objective 'binary:logistic' was changed from 'error' to 'logloss'. Explicitly set eval_metric if you'd like to restore the old behavior.\n",
      "              precision    recall  f1-score   support\n",
      "\n",
      "           0       0.66      0.64      0.65       647\n",
      "           1       0.65      0.66      0.66       647\n",
      "\n",
      "    accuracy                           0.65      1294\n",
      "   macro avg       0.65      0.65      0.65      1294\n",
      "weighted avg       0.65      0.65      0.65      1294\n",
      "\n"
     ]
    }
   ],
   "source": [
    "x = under_sample.drop(columns=['response','ID'])\n",
    "y = under_sample['response']\n",
    "identifier = under_sample['ID']\n",
    "\n",
    "for i in range(0,100):\n",
    "    skf = StratifiedKFold(n_splits=5, random_state = i, shuffle = True)\n",
    "        \n",
    "predicted_y = []\n",
    "expected_y = []\n",
    "customer_id = []\n",
    "\n",
    "for train_index, test_index in skf.split(x, y):\n",
    "    x_train, x_test = x.loc[train_index], x.loc[test_index]\n",
    "    y_train, y_test = y[train_index], y[test_index]\n",
    "    id_train, id_test = identifier[train_index], identifier[test_index]\n",
    "    \n",
    "    xgb_model = xgb.XGBClassifier(objective='binary:logistic').fit(x.loc[train_index], y[train_index])\n",
    "    predictions = xgb_model.predict(x.loc[test_index])\n",
    "\n",
    "    predicted_y.extend(predictions)\n",
    "    expected_y.extend(y_test)\n",
    "    customer_id.extend(id_test)\n",
    "    \n",
    "result = {'id': customer_id,'pred': predicted_y, 'exp': expected_y}    \n",
    "report = classification_report(expected_y, predicted_y)\n",
    "print(report)"
   ]
  },
  {
   "cell_type": "code",
   "execution_count": 45,
   "metadata": {},
   "outputs": [
    {
     "data": {
      "text/html": [
       "<div>\n",
       "<style scoped>\n",
       "    .dataframe tbody tr th:only-of-type {\n",
       "        vertical-align: middle;\n",
       "    }\n",
       "\n",
       "    .dataframe tbody tr th {\n",
       "        vertical-align: top;\n",
       "    }\n",
       "\n",
       "    .dataframe thead th {\n",
       "        text-align: right;\n",
       "    }\n",
       "</style>\n",
       "<table border=\"1\" class=\"dataframe\">\n",
       "  <thead>\n",
       "    <tr style=\"text-align: right;\">\n",
       "      <th></th>\n",
       "      <th>id</th>\n",
       "      <th>pred</th>\n",
       "      <th>exp</th>\n",
       "    </tr>\n",
       "  </thead>\n",
       "  <tbody>\n",
       "    <tr>\n",
       "      <th>0</th>\n",
       "      <td>4004</td>\n",
       "      <td>0</td>\n",
       "      <td>0</td>\n",
       "    </tr>\n",
       "    <tr>\n",
       "      <th>1</th>\n",
       "      <td>5435</td>\n",
       "      <td>1</td>\n",
       "      <td>0</td>\n",
       "    </tr>\n",
       "    <tr>\n",
       "      <th>2</th>\n",
       "      <td>4799</td>\n",
       "      <td>1</td>\n",
       "      <td>0</td>\n",
       "    </tr>\n",
       "    <tr>\n",
       "      <th>3</th>\n",
       "      <td>5004</td>\n",
       "      <td>1</td>\n",
       "      <td>0</td>\n",
       "    </tr>\n",
       "    <tr>\n",
       "      <th>4</th>\n",
       "      <td>2574</td>\n",
       "      <td>0</td>\n",
       "      <td>0</td>\n",
       "    </tr>\n",
       "  </tbody>\n",
       "</table>\n",
       "</div>"
      ],
      "text/plain": [
       "     id  pred  exp\n",
       "0  4004     0    0\n",
       "1  5435     1    0\n",
       "2  4799     1    0\n",
       "3  5004     1    0\n",
       "4  2574     0    0"
      ]
     },
     "execution_count": 45,
     "metadata": {},
     "output_type": "execute_result"
    }
   ],
   "source": [
    "score = pd.DataFrame(data=result)\n",
    "score.head()"
   ]
  },
  {
   "cell_type": "code",
   "execution_count": 46,
   "metadata": {},
   "outputs": [
    {
     "data": {
      "image/png": "[encoded data removed]",
      "text/plain": [
       "<Figure size 720x648 with 2 Axes>"
      ]
     },
     "metadata": {
      "needs_background": "light"
     },
     "output_type": "display_data"
    }
   ],
   "source": [
    "cf_matrix = confusion_matrix(expected_y,predicted_y)\n",
    "plt.figure(figsize=(10,9))\n",
    "group_names = ['TN','FP','FN','TP']\n",
    "group_counts = [\"{0:0.0f}\".format(value) for value in cf_matrix.flatten()]\n",
    "group_percentages = [\"{0:.2%}\".format(value) for value in cf_matrix.flatten()/np.sum(cf_matrix)]\n",
    "labels = [f\"{v1}\\n{v2}\\n{v3}\" for v1, v2, v3 in zip(group_names,group_counts,group_percentages)]\n",
    "labels = np.asarray(labels).reshape(2,2)\n",
    "sns.heatmap(cf_matrix, annot = labels, fmt='', cmap='Blues')\n",
    "plt.show()"
   ]
  },
  {
   "cell_type": "code",
   "execution_count": 47,
   "metadata": {},
   "outputs": [],
   "source": [
    "#Over Sampling"
   ]
  },
  {
   "cell_type": "code",
   "execution_count": 48,
   "metadata": {},
   "outputs": [],
   "source": [
    "from sklearn.utils import resample"
   ]
  },
  {
   "cell_type": "code",
   "execution_count": 49,
   "metadata": {},
   "outputs": [],
   "source": [
    "y = data_pre.response\n",
    "X = data_pre.drop('response', axis=1)\n",
    "\n",
    "# setting up testing and training sets\n",
    "X_train, X_test, y_train, y_test = train_test_split(X, y, test_size=0.25, random_state=27)"
   ]
  },
  {
   "cell_type": "code",
   "execution_count": 50,
   "metadata": {},
   "outputs": [
    {
     "data": {
      "text/html": [
       "<div>\n",
       "<style scoped>\n",
       "    .dataframe tbody tr th:only-of-type {\n",
       "        vertical-align: middle;\n",
       "    }\n",
       "\n",
       "    .dataframe tbody tr th {\n",
       "        vertical-align: top;\n",
       "    }\n",
       "\n",
       "    .dataframe thead th {\n",
       "        text-align: right;\n",
       "    }\n",
       "</style>\n",
       "<table border=\"1\" class=\"dataframe\">\n",
       "  <thead>\n",
       "    <tr style=\"text-align: right;\">\n",
       "      <th></th>\n",
       "      <th>ID</th>\n",
       "      <th>recency</th>\n",
       "      <th>frequency</th>\n",
       "      <th>monetary_value</th>\n",
       "      <th>Segment</th>\n",
       "      <th>response</th>\n",
       "    </tr>\n",
       "  </thead>\n",
       "  <tbody>\n",
       "    <tr>\n",
       "      <th>2634</th>\n",
       "      <td>3746</td>\n",
       "      <td>74.0</td>\n",
       "      <td>19</td>\n",
       "      <td>1475</td>\n",
       "      <td>9</td>\n",
       "      <td>0</td>\n",
       "    </tr>\n",
       "    <tr>\n",
       "      <th>4905</th>\n",
       "      <td>6017</td>\n",
       "      <td>3.0</td>\n",
       "      <td>28</td>\n",
       "      <td>2109</td>\n",
       "      <td>9</td>\n",
       "      <td>0</td>\n",
       "    </tr>\n",
       "    <tr>\n",
       "      <th>2436</th>\n",
       "      <td>3548</td>\n",
       "      <td>38.0</td>\n",
       "      <td>19</td>\n",
       "      <td>1398</td>\n",
       "      <td>9</td>\n",
       "      <td>0</td>\n",
       "    </tr>\n",
       "    <tr>\n",
       "      <th>1875</th>\n",
       "      <td>2987</td>\n",
       "      <td>89.0</td>\n",
       "      <td>20</td>\n",
       "      <td>1508</td>\n",
       "      <td>5</td>\n",
       "      <td>0</td>\n",
       "    </tr>\n",
       "    <tr>\n",
       "      <th>5717</th>\n",
       "      <td>7832</td>\n",
       "      <td>104.0</td>\n",
       "      <td>20</td>\n",
       "      <td>905</td>\n",
       "      <td>5</td>\n",
       "      <td>0</td>\n",
       "    </tr>\n",
       "  </tbody>\n",
       "</table>\n",
       "</div>"
      ],
      "text/plain": [
       "        ID  recency  frequency  monetary_value  Segment  response\n",
       "2634  3746     74.0         19            1475        9         0\n",
       "4905  6017      3.0         28            2109        9         0\n",
       "2436  3548     38.0         19            1398        9         0\n",
       "1875  2987     89.0         20            1508        5         0\n",
       "5717  7832    104.0         20             905        5         0"
      ]
     },
     "execution_count": 50,
     "metadata": {},
     "output_type": "execute_result"
    }
   ],
   "source": [
    "X = pd.concat([X_train, y_train], axis=1)\n",
    "X.head()"
   ]
  },
  {
   "cell_type": "code",
   "execution_count": 51,
   "metadata": {},
   "outputs": [
    {
     "data": {
      "text/html": [
       "<div>\n",
       "<style scoped>\n",
       "    .dataframe tbody tr th:only-of-type {\n",
       "        vertical-align: middle;\n",
       "    }\n",
       "\n",
       "    .dataframe tbody tr th {\n",
       "        vertical-align: top;\n",
       "    }\n",
       "\n",
       "    .dataframe thead th {\n",
       "        text-align: right;\n",
       "    }\n",
       "</style>\n",
       "<table border=\"1\" class=\"dataframe\">\n",
       "  <thead>\n",
       "    <tr style=\"text-align: right;\">\n",
       "      <th></th>\n",
       "      <th>ID</th>\n",
       "      <th>recency</th>\n",
       "      <th>frequency</th>\n",
       "      <th>monetary_value</th>\n",
       "      <th>Segment</th>\n",
       "      <th>response</th>\n",
       "    </tr>\n",
       "  </thead>\n",
       "  <tbody>\n",
       "    <tr>\n",
       "      <th>0</th>\n",
       "      <td>3746</td>\n",
       "      <td>74.0</td>\n",
       "      <td>19</td>\n",
       "      <td>1475</td>\n",
       "      <td>9</td>\n",
       "      <td>0</td>\n",
       "    </tr>\n",
       "    <tr>\n",
       "      <th>1</th>\n",
       "      <td>6017</td>\n",
       "      <td>3.0</td>\n",
       "      <td>28</td>\n",
       "      <td>2109</td>\n",
       "      <td>9</td>\n",
       "      <td>0</td>\n",
       "    </tr>\n",
       "    <tr>\n",
       "      <th>2</th>\n",
       "      <td>3548</td>\n",
       "      <td>38.0</td>\n",
       "      <td>19</td>\n",
       "      <td>1398</td>\n",
       "      <td>9</td>\n",
       "      <td>0</td>\n",
       "    </tr>\n",
       "    <tr>\n",
       "      <th>3</th>\n",
       "      <td>2987</td>\n",
       "      <td>89.0</td>\n",
       "      <td>20</td>\n",
       "      <td>1508</td>\n",
       "      <td>5</td>\n",
       "      <td>0</td>\n",
       "    </tr>\n",
       "    <tr>\n",
       "      <th>4</th>\n",
       "      <td>7832</td>\n",
       "      <td>104.0</td>\n",
       "      <td>20</td>\n",
       "      <td>905</td>\n",
       "      <td>5</td>\n",
       "      <td>0</td>\n",
       "    </tr>\n",
       "  </tbody>\n",
       "</table>\n",
       "</div>"
      ],
      "text/plain": [
       "     ID  recency  frequency  monetary_value  Segment  response\n",
       "0  3746     74.0         19            1475        9         0\n",
       "1  6017      3.0         28            2109        9         0\n",
       "2  3548     38.0         19            1398        9         0\n",
       "3  2987     89.0         20            1508        5         0\n",
       "4  7832    104.0         20             905        5         0"
      ]
     },
     "execution_count": 51,
     "metadata": {},
     "output_type": "execute_result"
    }
   ],
   "source": [
    "not_order = X[X.response==0]\n",
    "order = X[X.response==1]\n",
    "\n",
    "# upsample minority\n",
    "order_upsampled = resample(order,\n",
    "                          replace=True, # sample with replacement\n",
    "                          n_samples=len(not_order), # match number in majority class\n",
    "                          random_state=27) # reproducible results\n",
    "\n",
    "# combine majority and upsampled minority\n",
    "upsampled = pd.concat([not_order, order_upsampled])\n",
    "upsampled.reset_index(drop=True, inplace=True)\n",
    "upsampled.head()"
   ]
  },
  {
   "cell_type": "code",
   "execution_count": 52,
   "metadata": {},
   "outputs": [
    {
     "data": {
      "text/html": [
       "<div>\n",
       "<style scoped>\n",
       "    .dataframe tbody tr th:only-of-type {\n",
       "        vertical-align: middle;\n",
       "    }\n",
       "\n",
       "    .dataframe tbody tr th {\n",
       "        vertical-align: top;\n",
       "    }\n",
       "\n",
       "    .dataframe thead th {\n",
       "        text-align: right;\n",
       "    }\n",
       "</style>\n",
       "<table border=\"1\" class=\"dataframe\">\n",
       "  <thead>\n",
       "    <tr style=\"text-align: right;\">\n",
       "      <th></th>\n",
       "      <th>ID</th>\n",
       "    </tr>\n",
       "    <tr>\n",
       "      <th>response</th>\n",
       "      <th></th>\n",
       "    </tr>\n",
       "  </thead>\n",
       "  <tbody>\n",
       "    <tr>\n",
       "      <th>0</th>\n",
       "      <td>4676</td>\n",
       "    </tr>\n",
       "    <tr>\n",
       "      <th>1</th>\n",
       "      <td>4676</td>\n",
       "    </tr>\n",
       "  </tbody>\n",
       "</table>\n",
       "</div>"
      ],
      "text/plain": [
       "            ID\n",
       "response      \n",
       "0         4676\n",
       "1         4676"
      ]
     },
     "execution_count": 52,
     "metadata": {},
     "output_type": "execute_result"
    }
   ],
   "source": [
    "label_os = upsampled.groupby('response').agg({'ID': lambda x: len(x)})\n",
    "label_os.head()"
   ]
  },
  {
   "cell_type": "code",
   "execution_count": 53,
   "metadata": {},
   "outputs": [
    {
     "data": {
      "image/png": "[encoded data removed]",
      "text/plain": [
       "<Figure size 360x360 with 1 Axes>"
      ]
     },
     "metadata": {
      "needs_background": "light"
     },
     "output_type": "display_data"
    }
   ],
   "source": [
    "plt.figure(figsize=(5,5))\n",
    "x=range(2)\n",
    "plt.bar(x,label_os['ID'])\n",
    "plt.xticks(label_os.index)\n",
    "plt.title('Label Distribution')\n",
    "plt.xlabel('Convert or Not')\n",
    "plt.ylabel('total_user')\n",
    "plt.show()"
   ]
  },
  {
   "cell_type": "code",
   "execution_count": 55,
   "metadata": {},
   "outputs": [
    {
     "name": "stdout",
     "output_type": "stream",
     "text": [
      "[13:54:02] WARNING: C:/Users/Administrator/workspace/xgboost-win64_release_1.3.0/src/learner.cc:1061: Starting in XGBoost 1.3.0, the default evaluation metric used with the objective 'binary:logistic' was changed from 'error' to 'logloss'. Explicitly set eval_metric if you'd like to restore the old behavior.\n",
      "[13:54:03] WARNING: C:/Users/Administrator/workspace/xgboost-win64_release_1.3.0/src/learner.cc:1061: Starting in XGBoost 1.3.0, the default evaluation metric used with the objective 'binary:logistic' was changed from 'error' to 'logloss'. Explicitly set eval_metric if you'd like to restore the old behavior.\n",
      "[13:54:03] WARNING: C:/Users/Administrator/workspace/xgboost-win64_release_1.3.0/src/learner.cc:1061: Starting in XGBoost 1.3.0, the default evaluation metric used with the objective 'binary:logistic' was changed from 'error' to 'logloss'. Explicitly set eval_metric if you'd like to restore the old behavior.\n",
      "[13:54:04] WARNING: C:/Users/Administrator/workspace/xgboost-win64_release_1.3.0/src/learner.cc:1061: Starting in XGBoost 1.3.0, the default evaluation metric used with the objective 'binary:logistic' was changed from 'error' to 'logloss'. Explicitly set eval_metric if you'd like to restore the old behavior.\n",
      "[13:54:04] WARNING: C:/Users/Administrator/workspace/xgboost-win64_release_1.3.0/src/learner.cc:1061: Starting in XGBoost 1.3.0, the default evaluation metric used with the objective 'binary:logistic' was changed from 'error' to 'logloss'. Explicitly set eval_metric if you'd like to restore the old behavior.\n",
      "[13:54:05] WARNING: C:/Users/Administrator/workspace/xgboost-win64_release_1.3.0/src/learner.cc:1061: Starting in XGBoost 1.3.0, the default evaluation metric used with the objective 'binary:logistic' was changed from 'error' to 'logloss'. Explicitly set eval_metric if you'd like to restore the old behavior.\n",
      "[13:54:05] WARNING: C:/Users/Administrator/workspace/xgboost-win64_release_1.3.0/src/learner.cc:1061: Starting in XGBoost 1.3.0, the default evaluation metric used with the objective 'binary:logistic' was changed from 'error' to 'logloss'. Explicitly set eval_metric if you'd like to restore the old behavior.\n",
      "[13:54:05] WARNING: C:/Users/Administrator/workspace/xgboost-win64_release_1.3.0/src/learner.cc:1061: Starting in XGBoost 1.3.0, the default evaluation metric used with the objective 'binary:logistic' was changed from 'error' to 'logloss'. Explicitly set eval_metric if you'd like to restore the old behavior.\n",
      "[13:54:06] WARNING: C:/Users/Administrator/workspace/xgboost-win64_release_1.3.0/src/learner.cc:1061: Starting in XGBoost 1.3.0, the default evaluation metric used with the objective 'binary:logistic' was changed from 'error' to 'logloss'. Explicitly set eval_metric if you'd like to restore the old behavior.\n",
      "[13:54:06] WARNING: C:/Users/Administrator/workspace/xgboost-win64_release_1.3.0/src/learner.cc:1061: Starting in XGBoost 1.3.0, the default evaluation metric used with the objective 'binary:logistic' was changed from 'error' to 'logloss'. Explicitly set eval_metric if you'd like to restore the old behavior.\n",
      "              precision    recall  f1-score   support\n",
      "\n",
      "           0       0.99      0.85      0.91      4676\n",
      "           1       0.87      0.99      0.92      4676\n",
      "\n",
      "    accuracy                           0.92      9352\n",
      "   macro avg       0.93      0.92      0.92      9352\n",
      "weighted avg       0.93      0.92      0.92      9352\n",
      "\n"
     ]
    }
   ],
   "source": [
    "x = upsampled.drop(columns=['response','ID'])\n",
    "y = upsampled['response']\n",
    "identifier = upsampled['ID']\n",
    "\n",
    "\n",
    "for i in range(0,100):\n",
    "    skf = StratifiedKFold(n_splits=10, random_state = i, shuffle = True)\n",
    "         \n",
    "predicted_y = []\n",
    "expected_y = []\n",
    "customer_id = []\n",
    "\n",
    "for train_index, test_index in skf.split(x, y):\n",
    "    x_train, x_test = x.loc[train_index], x.loc[test_index]\n",
    "    y_train, y_test = y[train_index], y[test_index]\n",
    "    id_train, id_test = identifier[train_index], identifier[test_index]\n",
    "    \n",
    "    xgb_model = xgb.XGBClassifier(objective='binary:logistic').fit(x.loc[train_index], y[train_index])\n",
    "    predictions = xgb_model.predict(x.loc[test_index])\n",
    "\n",
    "    predicted_y.extend(predictions)\n",
    "    expected_y.extend(y_test)\n",
    "    customer_id.extend(id_test)\n",
    "    \n",
    "result = {'id': customer_id,'pred': predicted_y, 'exp': expected_y}    \n",
    "report = classification_report(expected_y, predicted_y)\n",
    "print(report)"
   ]
  },
  {
   "cell_type": "code",
   "execution_count": 56,
   "metadata": {},
   "outputs": [
    {
     "data": {
      "text/html": [
       "<div>\n",
       "<style scoped>\n",
       "    .dataframe tbody tr th:only-of-type {\n",
       "        vertical-align: middle;\n",
       "    }\n",
       "\n",
       "    .dataframe tbody tr th {\n",
       "        vertical-align: top;\n",
       "    }\n",
       "\n",
       "    .dataframe thead th {\n",
       "        text-align: right;\n",
       "    }\n",
       "</style>\n",
       "<table border=\"1\" class=\"dataframe\">\n",
       "  <thead>\n",
       "    <tr style=\"text-align: right;\">\n",
       "      <th></th>\n",
       "      <th>id</th>\n",
       "      <th>pred</th>\n",
       "      <th>exp</th>\n",
       "    </tr>\n",
       "  </thead>\n",
       "  <tbody>\n",
       "    <tr>\n",
       "      <th>0</th>\n",
       "      <td>3548</td>\n",
       "      <td>0</td>\n",
       "      <td>0</td>\n",
       "    </tr>\n",
       "    <tr>\n",
       "      <th>1</th>\n",
       "      <td>7714</td>\n",
       "      <td>0</td>\n",
       "      <td>0</td>\n",
       "    </tr>\n",
       "    <tr>\n",
       "      <th>2</th>\n",
       "      <td>2660</td>\n",
       "      <td>0</td>\n",
       "      <td>0</td>\n",
       "    </tr>\n",
       "    <tr>\n",
       "      <th>3</th>\n",
       "      <td>1112</td>\n",
       "      <td>0</td>\n",
       "      <td>0</td>\n",
       "    </tr>\n",
       "    <tr>\n",
       "      <th>4</th>\n",
       "      <td>1830</td>\n",
       "      <td>0</td>\n",
       "      <td>0</td>\n",
       "    </tr>\n",
       "  </tbody>\n",
       "</table>\n",
       "</div>"
      ],
      "text/plain": [
       "     id  pred  exp\n",
       "0  3548     0    0\n",
       "1  7714     0    0\n",
       "2  2660     0    0\n",
       "3  1112     0    0\n",
       "4  1830     0    0"
      ]
     },
     "execution_count": 56,
     "metadata": {},
     "output_type": "execute_result"
    }
   ],
   "source": [
    "score = pd.DataFrame(data=result)\n",
    "score.head()"
   ]
  },
  {
   "cell_type": "code",
   "execution_count": 57,
   "metadata": {},
   "outputs": [
    {
     "data": {
      "image/png": "[encoded data removed]",
      "text/plain": [
       "<Figure size 720x648 with 2 Axes>"
      ]
     },
     "metadata": {
      "needs_background": "light"
     },
     "output_type": "display_data"
    }
   ],
   "source": [
    "cf_matrix = confusion_matrix(expected_y,predicted_y)\n",
    "plt.figure(figsize=(10,9))\n",
    "group_names = ['TN','FP','FN','TP']\n",
    "group_counts = [\"{0:0.0f}\".format(value) for value in cf_matrix.flatten()]\n",
    "group_percentages = [\"{0:.2%}\".format(value) for value in cf_matrix.flatten()/np.sum(cf_matrix)]\n",
    "labels = [f\"{v1}\\n{v2}\\n{v3}\" for v1, v2, v3 in zip(group_names,group_counts,group_percentages)]\n",
    "labels = np.asarray(labels).reshape(2,2)\n",
    "sns.heatmap(cf_matrix, annot = labels, fmt='', cmap='Blues')\n",
    "plt.show()"
   ]
  },
  {
   "cell_type": "markdown",
   "metadata": {},
   "source": [
    "# ลองทำอันใหม่"
   ]
  },
  {
   "cell_type": "code",
   "execution_count": 63,
   "metadata": {},
   "outputs": [
    {
     "data": {
      "text/plain": [
       "0       0\n",
       "1       0\n",
       "2       1\n",
       "3       1\n",
       "4       1\n",
       "       ..\n",
       "6879    0\n",
       "6880    0\n",
       "6881    0\n",
       "6882    0\n",
       "6883    0\n",
       "Name: response, Length: 6884, dtype: int64"
      ]
     },
     "execution_count": 63,
     "metadata": {},
     "output_type": "execute_result"
    }
   ],
   "source": [
    "X = data_pre.drop(columns=['response','ID'])\n",
    "y = data_pre['response']"
   ]
  },
  {
   "cell_type": "code",
   "execution_count": 64,
   "metadata": {},
   "outputs": [
    {
     "name": "stdout",
     "output_type": "stream",
     "text": [
      "Number transactions X_train dataset:  (4818, 4)\n",
      "Number transactions y_train dataset:  (4818,)\n",
      "Number transactions X_test dataset:  (2066, 4)\n",
      "Number transactions y_test dataset:  (2066,)\n"
     ]
    }
   ],
   "source": [
    "X_train, X_test, y_train, y_test = train_test_split(X, y, test_size=0.3, random_state=0)\n",
    "\n",
    "print(\"Number transactions X_train dataset: \", X_train.shape)\n",
    "print(\"Number transactions y_train dataset: \", y_train.shape)\n",
    "print(\"Number transactions X_test dataset: \", X_test.shape)\n",
    "print(\"Number transactions y_test dataset: \", y_test.shape)"
   ]
  },
  {
   "cell_type": "code",
   "execution_count": 76,
   "metadata": {},
   "outputs": [
    {
     "data": {
      "text/plain": [
       "6590    0\n",
       "567     0\n",
       "2468    0\n",
       "1149    0\n",
       "2752    0\n",
       "       ..\n",
       "4931    0\n",
       "3264    0\n",
       "1653    0\n",
       "2607    0\n",
       "2732    0\n",
       "Name: response, Length: 4818, dtype: int64"
      ]
     },
     "execution_count": 76,
     "metadata": {},
     "output_type": "execute_result"
    }
   ],
   "source": [
    "y_train"
   ]
  },
  {
   "cell_type": "code",
   "execution_count": 66,
   "metadata": {},
   "outputs": [
    {
     "data": {
      "text/plain": [
       "Text(0.5, 1.0, 'Imbalanced Data')"
      ]
     },
     "execution_count": 66,
     "metadata": {},
     "output_type": "execute_result"
    },
    {
     "data": {
      "image/png": "[encoded data removed]",
      "text/plain": [
       "<Figure size 432x288 with 1 Axes>"
      ]
     },
     "metadata": {
      "needs_background": "light"
     },
     "output_type": "display_data"
    }
   ],
   "source": [
    "sns.scatterplot(data=data_pre, x='recency', y='monetary_value', hue='response')\n",
    "sns.despine()\n",
    "plt.title(\"Imbalanced Data\")"
   ]
  },
  {
   "cell_type": "markdown",
   "metadata": {},
   "source": [
    "# UnderSampling"
   ]
  },
  {
   "cell_type": "code",
   "execution_count": 82,
   "metadata": {},
   "outputs": [
    {
     "data": {
      "text/plain": [
       "Text(0.5, 1.0, 'Undersampled Data')"
      ]
     },
     "execution_count": 82,
     "metadata": {},
     "output_type": "execute_result"
    },
    {
     "data": {
      "image/png": "[encoded data removed]",
      "text/plain": [
       "<Figure size 432x288 with 1 Axes>"
      ]
     },
     "metadata": {
      "needs_background": "light"
     },
     "output_type": "display_data"
    }
   ],
   "source": [
    "rus = RandomUnderSampler(random_state=0)\n",
    "rus.fit(X_train, y_train)\n",
    "X_undersampled, y_undersampled = rus.fit_resample(X_train, y_train)\n",
    "df_undersampled = pd.concat([pd.DataFrame(data=X_undersampled),pd.DataFrame(data=y_undersampled)], axis=1, sort=False)\n",
    "df_undersampled.columns= ['recency', 'frequency', 'monetary_value', 'Segment',\"response\"]\n",
    "\n",
    "sns.scatterplot(data=df_undersampled, x='recency', y='monetary_value', hue='response')\n",
    "sns.despine()\n",
    "plt.title(\"Undersampled Data\")"
   ]
  },
  {
   "cell_type": "markdown",
   "metadata": {},
   "source": [
    "# OverSampling"
   ]
  },
  {
   "cell_type": "code",
   "execution_count": 84,
   "metadata": {},
   "outputs": [
    {
     "data": {
      "text/plain": [
       "Text(0.5, 1.0, 'Oversampled Data')"
      ]
     },
     "execution_count": 84,
     "metadata": {},
     "output_type": "execute_result"
    },
    {
     "data": {
      "image/png": "[encoded data removed]",
      "text/plain": [
       "<Figure size 432x288 with 1 Axes>"
      ]
     },
     "metadata": {
      "needs_background": "light"
     },
     "output_type": "display_data"
    }
   ],
   "source": [
    "ros = RandomOverSampler(random_state=0)\n",
    "ros.fit(X_train, y_train)\n",
    "X_oversampled, y_oversampled = ros.fit_resample(X_train, y_train)\n",
    "df_oversampled = pd.concat([pd.DataFrame(data=X_oversampled),pd.DataFrame(data=y_oversampled)], axis=1, sort=False)\n",
    "df_oversampled.columns= ['recency', 'frequency', 'monetary_value', 'Segment',\"response\"]\n",
    "\n",
    "sns.scatterplot(data=df_oversampled, x='recency', y='monetary_value', hue='response')\n",
    "sns.despine()\n",
    "plt.title(\"Oversampled Data\")"
   ]
  },
  {
   "cell_type": "markdown",
   "metadata": {},
   "source": [
    "# Logistics regression"
   ]
  },
  {
   "cell_type": "code",
   "execution_count": 85,
   "metadata": {},
   "outputs": [
    {
     "name": "stdout",
     "output_type": "stream",
     "text": [
      "logistic regression model - undersampled\n",
      "training set\n",
      "              precision    recall  f1-score   support\n",
      "\n",
      "           0       0.69      0.62      0.65       429\n",
      "           1       0.65      0.72      0.68       429\n",
      "\n",
      "    accuracy                           0.67       858\n",
      "   macro avg       0.67      0.67      0.67       858\n",
      "weighted avg       0.67      0.67      0.67       858\n",
      "\n",
      "test set\n",
      "              precision    recall  f1-score   support\n",
      "\n",
      "           0       0.95      0.60      0.74      1848\n",
      "           1       0.18      0.74      0.29       218\n",
      "\n",
      "    accuracy                           0.62      2066\n",
      "   macro avg       0.57      0.67      0.52      2066\n",
      "weighted avg       0.87      0.62      0.69      2066\n",
      "\n"
     ]
    }
   ],
   "source": [
    "print('logistic regression model - undersampled')\n",
    "logreg = LogisticRegression(solver='liblinear', class_weight='balanced')\n",
    "\n",
    "predicted_y = []\n",
    "expected_y = []\n",
    "\n",
    "logreg_model_under = logreg.fit(X_undersampled, y_undersampled)\n",
    "predictions = logreg_model_under.predict(X_undersampled)\n",
    "predicted_y.extend(predictions)\n",
    "expected_y.extend(y_undersampled)\n",
    "report_train = classification_report(expected_y, predicted_y)\n",
    "print('training set')\n",
    "print(report_train) \n",
    "\n",
    "predicted_y = []\n",
    "expected_y = []\n",
    "predictions = logreg_model_under.predict(X_test)\n",
    "predicted_y.extend(predictions)\n",
    "expected_y.extend(y_test)\n",
    "report_test = classification_report(expected_y, predicted_y)\n",
    "print('test set')\n",
    "print(report_test)"
   ]
  },
  {
   "cell_type": "code",
   "execution_count": 87,
   "metadata": {},
   "outputs": [
    {
     "data": {
      "image/png": "[encoded data removed]",
      "text/plain": [
       "<Figure size 432x288 with 1 Axes>"
      ]
     },
     "metadata": {
      "needs_background": "light"
     },
     "output_type": "display_data"
    }
   ],
   "source": [
    "y_score_train = logreg_model_under.decision_function(X_undersampled)\n",
    "fpr_train, tpr_train, _ = roc_curve(y_undersampled,  y_score_train)\n",
    "auc_train = roc_auc_score(y_undersampled, y_score_train)\n",
    "plt.plot(fpr_train,tpr_train, color='red', label='undersampled - train , auc='+str(auc_train))\n",
    "\n",
    "y_score_test = logreg_model_under.decision_function(X_test)\n",
    "fpr_test, tpr_test, _ = roc_curve(y_test,  y_score_test)\n",
    "auc_test = roc_auc_score(y_test, y_score_test)\n",
    "plt.plot(fpr_test,tpr_test, color='Blue', label='undersampled - test , auc='+str(auc_test))\n",
    "\n",
    "plt.plot([0, 1], [0, 1], color='navy', lw=2, linestyle='--')\n",
    "plt.legend(loc=4)\n",
    "plt.show()"
   ]
  },
  {
   "cell_type": "code",
   "execution_count": 88,
   "metadata": {},
   "outputs": [
    {
     "name": "stdout",
     "output_type": "stream",
     "text": [
      "logistic regression model - oversampled\n",
      "training set\n",
      "              precision    recall  f1-score   support\n",
      "\n",
      "           0       0.66      0.62      0.64      4389\n",
      "           1       0.64      0.69      0.66      4389\n",
      "\n",
      "    accuracy                           0.65      8778\n",
      "   macro avg       0.65      0.65      0.65      8778\n",
      "weighted avg       0.65      0.65      0.65      8778\n",
      "\n",
      "test set\n",
      "              precision    recall  f1-score   support\n",
      "\n",
      "           0       0.95      0.63      0.76      1848\n",
      "           1       0.18      0.71      0.29       218\n",
      "\n",
      "    accuracy                           0.64      2066\n",
      "   macro avg       0.57      0.67      0.53      2066\n",
      "weighted avg       0.87      0.64      0.71      2066\n",
      "\n"
     ]
    }
   ],
   "source": [
    "print('logistic regression model - oversampled')\n",
    "logreg = LogisticRegression(solver='liblinear', class_weight='balanced')\n",
    "predicted_y = []\n",
    "expected_y = []\n",
    "\n",
    "logreg_model_over = logreg.fit(X_oversampled, y_oversampled)\n",
    "predictions = logreg_model_over.predict(X_oversampled)\n",
    "predicted_y.extend(predictions)\n",
    "expected_y.extend(y_oversampled)\n",
    "report_train = classification_report(expected_y, predicted_y)\n",
    "print('training set')\n",
    "print(report_train) \n",
    "\n",
    "predicted_y = []\n",
    "expected_y = []\n",
    "predictions = logreg_model_over.predict(X_test)\n",
    "predicted_y.extend(predictions)\n",
    "expected_y.extend(y_test)\n",
    "report_test = classification_report(expected_y, predicted_y)\n",
    "print('test set')\n",
    "print(report_test)"
   ]
  },
  {
   "cell_type": "code",
   "execution_count": 89,
   "metadata": {},
   "outputs": [
    {
     "data": {
      "image/png": "[encoded data removed]",
      "text/plain": [
       "<Figure size 432x288 with 1 Axes>"
      ]
     },
     "metadata": {
      "needs_background": "light"
     },
     "output_type": "display_data"
    }
   ],
   "source": [
    "y_score_train = logreg_model_over.decision_function(X_oversampled)\n",
    "fpr_train, tpr_train, _ = roc_curve(y_oversampled,  y_score_train)\n",
    "auc_train = roc_auc_score(y_oversampled, y_score_train)\n",
    "plt.plot(fpr_train,tpr_train, color='red', label='oversampled - train , auc='+str(auc_train))\n",
    "\n",
    "y_score_test = logreg_model_over.decision_function(X_test)\n",
    "fpr_test, tpr_test, _ = roc_curve(y_test,  y_score_test)\n",
    "auc_test = roc_auc_score(y_test, y_score_test)\n",
    "plt.plot(fpr_test,tpr_test, color='Blue', label='oversampled - test , auc='+str(auc_test))\n",
    "\n",
    "plt.plot([0, 1], [0, 1], color='navy', lw=2, linestyle='--')\n",
    "plt.legend(loc=4)\n",
    "plt.show()"
   ]
  },
  {
   "cell_type": "markdown",
   "metadata": {},
   "source": [
    "# XG Boots"
   ]
  },
  {
   "cell_type": "code",
   "execution_count": 123,
   "metadata": {},
   "outputs": [
    {
     "name": "stdout",
     "output_type": "stream",
     "text": [
      "[14:44:21] WARNING: C:/Users/Administrator/workspace/xgboost-win64_release_1.3.0/src/learner.cc:1061: Starting in XGBoost 1.3.0, the default evaluation metric used with the objective 'binary:logistic' was changed from 'error' to 'logloss'. Explicitly set eval_metric if you'd like to restore the old behavior.\n",
      "[14:44:21] WARNING: C:/Users/Administrator/workspace/xgboost-win64_release_1.3.0/src/learner.cc:1061: Starting in XGBoost 1.3.0, the default evaluation metric used with the objective 'binary:logistic' was changed from 'error' to 'logloss'. Explicitly set eval_metric if you'd like to restore the old behavior.\n",
      "training set\n",
      "              precision    recall  f1-score   support\n",
      "\n",
      "           0       0.51      0.95      0.66       429\n",
      "           1       0.63      0.09      0.16       429\n",
      "\n",
      "    accuracy                           0.52       858\n",
      "   macro avg       0.57      0.52      0.41       858\n",
      "weighted avg       0.57      0.52      0.41       858\n",
      "\n",
      "test set\n",
      "              precision    recall  f1-score   support\n",
      "\n",
      "           0       0.97      1.00      0.99      1848\n",
      "           1       1.00      0.74      0.85       218\n",
      "\n",
      "    accuracy                           0.97      2066\n",
      "   macro avg       0.99      0.87      0.92      2066\n",
      "weighted avg       0.97      0.97      0.97      2066\n",
      "\n"
     ]
    }
   ],
   "source": [
    "#XG Boost แบบฟิต Test\n",
    "xgb1_model = xgb.XGBClassifier(objective='binary:logistic').fit(X_test, y_test)\n",
    "predicted_y = []\n",
    "expected_y = []\n",
    "\n",
    "xgb_model_under = xgb1_model.fit(X_test, y_test)\n",
    "predictions =  xgb_model_under.predict(X_undersampled)\n",
    "predicted_y.extend(predictions)\n",
    "expected_y.extend(y_undersampled)\n",
    "report_train = classification_report(expected_y, predicted_y)\n",
    "print('training set')\n",
    "print(report_train) \n",
    "\n",
    "predicted_y = []\n",
    "expected_y = []\n",
    "predictions = xgb_model_under.predict(X_test)\n",
    "predicted_y.extend(predictions)\n",
    "expected_y.extend(y_test)\n",
    "report_test = classification_report(expected_y, predicted_y)\n",
    "print('test set')\n",
    "print(report_test)"
   ]
  },
  {
   "cell_type": "code",
   "execution_count": 124,
   "metadata": {},
   "outputs": [
    {
     "data": {
      "image/png": "[encoded data removed]",
      "text/plain": [
       "<Figure size 432x288 with 1 Axes>"
      ]
     },
     "metadata": {
      "needs_background": "light"
     },
     "output_type": "display_data"
    }
   ],
   "source": [
    "y_score_train = xgb_model_under.predict_proba(X_undersampled)\n",
    "fpr_train, tpr_train, _ = roc_curve(y_undersampled,  y_score_train[:,1])\n",
    "auc_train = roc_auc_score(y_undersampled, y_score_train[:,1])\n",
    "plt.plot(fpr_train,tpr_train, color='red', label='undersampled - train , auc='+str(auc_train))\n",
    "\n",
    "y_score_test = xgb_model_under.predict_proba(X_test.to_numpy())\n",
    "fpr_test, tpr_test, _ = roc_curve(y_test,  y_score_test[:,1])\n",
    "auc_test = roc_auc_score(y_test, y_score_test[:,1])\n",
    "plt.plot(fpr_test,tpr_test, color='Blue', label='undersampled - test , auc='+str(auc_test))\n",
    "\n",
    "plt.plot([0, 1], [0, 1], color='navy', lw=2, linestyle='--')\n",
    "plt.legend(loc=4)\n",
    "plt.show()"
   ]
  },
  {
   "cell_type": "code",
   "execution_count": 106,
   "metadata": {},
   "outputs": [
    {
     "name": "stdout",
     "output_type": "stream",
     "text": [
      "XGBoost model - undersampled\n",
      "[0]\tvalidation_0-auc:0.67073\n",
      "[1]\tvalidation_0-auc:0.67758\n",
      "[2]\tvalidation_0-auc:0.68399\n",
      "[3]\tvalidation_0-auc:0.69189\n",
      "[4]\tvalidation_0-auc:0.68895\n",
      "[5]\tvalidation_0-auc:0.69034\n",
      "[6]\tvalidation_0-auc:0.69657\n",
      "[7]\tvalidation_0-auc:0.69213\n",
      "[8]\tvalidation_0-auc:0.69492\n",
      "[9]\tvalidation_0-auc:0.69277\n",
      "[10]\tvalidation_0-auc:0.69172\n",
      "training set\n",
      "              precision    recall  f1-score   support\n",
      "\n",
      "           0       0.88      0.74      0.80       429\n",
      "           1       0.77      0.90      0.83       429\n",
      "\n",
      "    accuracy                           0.82       858\n",
      "   macro avg       0.82      0.82      0.82       858\n",
      "weighted avg       0.82      0.82      0.82       858\n",
      "\n",
      "test set\n",
      "              precision    recall  f1-score   support\n",
      "\n",
      "           0       0.95      0.55      0.69      1848\n",
      "           1       0.16      0.76      0.27       218\n",
      "\n",
      "    accuracy                           0.57      2066\n",
      "   macro avg       0.56      0.65      0.48      2066\n",
      "weighted avg       0.87      0.57      0.65      2066\n",
      "\n"
     ]
    }
   ],
   "source": [
    "print('XGBoost model - undersampled')\n",
    "xgb_model = xgb.XGBClassifier(objective='binary:logistic', eval_metric=\"auc\")\n",
    "predicted_y = []\n",
    "expected_y = []\n",
    "\n",
    "xgb_model_under = xgb_model.fit(X_undersampled, y_undersampled, early_stopping_rounds=5, eval_set=[(X_test, y_test)])\n",
    "predictions =  xgb_model_under.predict(X_undersampled)\n",
    "predicted_y.extend(predictions)\n",
    "expected_y.extend(y_undersampled)\n",
    "report_train = classification_report(expected_y, predicted_y)\n",
    "print('training set')\n",
    "print(report_train) \n",
    "\n",
    "predicted_y = []\n",
    "expected_y = []\n",
    "predictions = xgb_model_under.predict(X_test)\n",
    "predicted_y.extend(predictions)\n",
    "expected_y.extend(y_test)\n",
    "report_test = classification_report(expected_y, predicted_y)\n",
    "print('test set')\n",
    "print(report_test)\n"
   ]
  },
  {
   "cell_type": "code",
   "execution_count": 107,
   "metadata": {},
   "outputs": [
    {
     "data": {
      "image/png": "[encoded data removed]",
      "text/plain": [
       "<Figure size 432x288 with 1 Axes>"
      ]
     },
     "metadata": {
      "needs_background": "light"
     },
     "output_type": "display_data"
    }
   ],
   "source": [
    "y_score_train = xgb_model_under.predict_proba(X_undersampled)\n",
    "fpr_train, tpr_train, _ = roc_curve(y_undersampled,  y_score_train[:,1])\n",
    "auc_train = roc_auc_score(y_undersampled, y_score_train[:,1])\n",
    "plt.plot(fpr_train,tpr_train, color='red', label='undersampled - train , auc='+str(auc_train))\n",
    "\n",
    "y_score_test = xgb_model_under.predict_proba(X_test.to_numpy())\n",
    "fpr_test, tpr_test, _ = roc_curve(y_test,  y_score_test[:,1])\n",
    "auc_test = roc_auc_score(y_test, y_score_test[:,1])\n",
    "plt.plot(fpr_test,tpr_test, color='Blue', label='undersampled - test , auc='+str(auc_test))\n",
    "\n",
    "plt.plot([0, 1], [0, 1], color='navy', lw=2, linestyle='--')\n",
    "plt.legend(loc=4)\n",
    "plt.show()"
   ]
  },
  {
   "cell_type": "code",
   "execution_count": 108,
   "metadata": {},
   "outputs": [
    {
     "data": {
      "text/plain": [
       "<matplotlib.axes._subplots.AxesSubplot at 0x143023a0388>"
      ]
     },
     "execution_count": 108,
     "metadata": {},
     "output_type": "execute_result"
    },
    {
     "data": {
      "image/png": "[encoded data removed]",
      "text/plain": [
       "<Figure size 432x288 with 1 Axes>"
      ]
     },
     "metadata": {
      "needs_background": "light"
     },
     "output_type": "display_data"
    }
   ],
   "source": [
    "xgb.plot_importance(xgb_model_under)"
   ]
  },
  {
   "cell_type": "code",
   "execution_count": 109,
   "metadata": {},
   "outputs": [
    {
     "name": "stdout",
     "output_type": "stream",
     "text": [
      "XGBoost model - oversampled\n",
      "[0]\tvalidation_0-auc:0.69248\n",
      "[1]\tvalidation_0-auc:0.70010\n",
      "[2]\tvalidation_0-auc:0.70801\n",
      "[3]\tvalidation_0-auc:0.71194\n",
      "[4]\tvalidation_0-auc:0.70726\n",
      "[5]\tvalidation_0-auc:0.70128\n",
      "[6]\tvalidation_0-auc:0.69921\n",
      "[7]\tvalidation_0-auc:0.69663\n",
      "[8]\tvalidation_0-auc:0.69650\n",
      "training set\n",
      "              precision    recall  f1-score   support\n",
      "\n",
      "           0       0.86      0.65      0.74      4389\n",
      "           1       0.72      0.89      0.80      4389\n",
      "\n",
      "    accuracy                           0.77      8778\n",
      "   macro avg       0.79      0.77      0.77      8778\n",
      "weighted avg       0.79      0.77      0.77      8778\n",
      "\n",
      "test set\n",
      "              precision    recall  f1-score   support\n",
      "\n",
      "           0       0.94      0.63      0.76      1848\n",
      "           1       0.17      0.64      0.27       218\n",
      "\n",
      "    accuracy                           0.64      2066\n",
      "   macro avg       0.55      0.64      0.51      2066\n",
      "weighted avg       0.86      0.64      0.71      2066\n",
      "\n"
     ]
    }
   ],
   "source": [
    "print('XGBoost model - oversampled')\n",
    "xgb_model = xgb.XGBClassifier(objective='binary:logistic', eval_metric=\"auc\")\n",
    "predicted_y = []\n",
    "expected_y = []\n",
    "\n",
    "xgb_model_over = xgb_model.fit(X_oversampled, y_oversampled, early_stopping_rounds=5, eval_set=[(X_test, y_test)])\n",
    "predictions =  xgb_model_over.predict(X_oversampled)\n",
    "predicted_y.extend(predictions)\n",
    "expected_y.extend(y_oversampled)\n",
    "report_train = classification_report(expected_y, predicted_y)\n",
    "print('training set')\n",
    "print(report_train) \n",
    "\n",
    "predicted_y = []\n",
    "expected_y = []\n",
    "predictions = xgb_model_over.predict(X_test)\n",
    "predicted_y.extend(predictions)\n",
    "expected_y.extend(y_test)\n",
    "report_test = classification_report(expected_y, predicted_y)\n",
    "print('test set')\n",
    "print(report_test)"
   ]
  },
  {
   "cell_type": "code",
   "execution_count": 110,
   "metadata": {},
   "outputs": [
    {
     "data": {
      "image/png": "[encoded data removed]",
      "text/plain": [
       "<Figure size 432x288 with 1 Axes>"
      ]
     },
     "metadata": {
      "needs_background": "light"
     },
     "output_type": "display_data"
    }
   ],
   "source": [
    "y_score_train = xgb_model_over.predict_proba(X_oversampled)\n",
    "fpr_train, tpr_train, _ = roc_curve(y_oversampled,  y_score_train[:,1])\n",
    "auc_train = roc_auc_score(y_oversampled, y_score_train[:,1])\n",
    "plt.plot(fpr_train,tpr_train, color='red', label='oversampled - train , auc='+str(auc_train))\n",
    "\n",
    "y_score_test = xgb_model_over.predict_proba(X_test.to_numpy())\n",
    "fpr_test, tpr_test, _ = roc_curve(y_test,  y_score_test[:,1])\n",
    "auc_test = roc_auc_score(y_test, y_score_test[:,1])\n",
    "plt.plot(fpr_test,tpr_test, color='Blue', label='oversampled - test , auc='+str(auc_test))\n",
    "\n",
    "plt.plot([0, 1], [0, 1], color='navy', lw=2, linestyle='--')\n",
    "plt.legend(loc=4)\n",
    "plt.show()"
   ]
  },
  {
   "cell_type": "code",
   "execution_count": 111,
   "metadata": {},
   "outputs": [
    {
     "data": {
      "text/plain": [
       "<matplotlib.axes._subplots.AxesSubplot at 0x14302315648>"
      ]
     },
     "execution_count": 111,
     "metadata": {},
     "output_type": "execute_result"
    },
    {
     "data": {
      "image/png": "[encoded data removed]",
      "text/plain": [
       "<Figure size 432x288 with 1 Axes>"
      ]
     },
     "metadata": {
      "needs_background": "light"
     },
     "output_type": "display_data"
    }
   ],
   "source": [
    "xgb.plot_importance(xgb_model_over)"
   ]
  },
  {
   "cell_type": "markdown",
   "metadata": {},
   "source": [
    "# Smote"
   ]
  },
  {
   "cell_type": "code",
   "execution_count": 114,
   "metadata": {},
   "outputs": [
    {
     "data": {
      "text/plain": [
       "Text(0.5, 1.0, 'SMOTE Data')"
      ]
     },
     "execution_count": 114,
     "metadata": {},
     "output_type": "execute_result"
    },
    {
     "data": {
      "image/png": "[encoded data removed]",
      "text/plain": [
       "<Figure size 432x288 with 1 Axes>"
      ]
     },
     "metadata": {
      "needs_background": "light"
     },
     "output_type": "display_data"
    }
   ],
   "source": [
    "sm = SMOTE(random_state=0)\n",
    "sm.fit(X_train, y_train)\n",
    "X_SMOTE, y_SMOTE = sm.fit_resample(X_train, y_train)\n",
    "df_SMOTE = pd.concat([pd.DataFrame(data=X_SMOTE),pd.DataFrame(data=y_SMOTE)], axis=1, sort=False)\n",
    "df_SMOTE.columns= ['recency', 'frequency', 'monetary_value', 'Segment',\"response\"]\n",
    "\n",
    "sns.scatterplot(data=df_SMOTE, x='recency', y='monetary_value', hue='response')\n",
    "sns.despine()\n",
    "plt.title(\"SMOTE Data\")"
   ]
  },
  {
   "cell_type": "code",
   "execution_count": 116,
   "metadata": {},
   "outputs": [
    {
     "name": "stdout",
     "output_type": "stream",
     "text": [
      "XGBoost model - SMOTE\n",
      "[0]\tvalidation_0-auc:0.69022\n",
      "[1]\tvalidation_0-auc:0.69372\n",
      "[2]\tvalidation_0-auc:0.70277\n",
      "[3]\tvalidation_0-auc:0.70585\n",
      "[4]\tvalidation_0-auc:0.70679\n",
      "[5]\tvalidation_0-auc:0.70249\n",
      "[6]\tvalidation_0-auc:0.70162\n",
      "[7]\tvalidation_0-auc:0.69926\n",
      "[8]\tvalidation_0-auc:0.69762\n",
      "training set\n",
      "              precision    recall  f1-score   support\n",
      "\n",
      "           0       0.88      0.64      0.74      4389\n",
      "           1       0.72      0.92      0.80      4389\n",
      "\n",
      "    accuracy                           0.78      8778\n",
      "   macro avg       0.80      0.78      0.77      8778\n",
      "weighted avg       0.80      0.78      0.77      8778\n",
      "\n",
      "test set\n",
      "              precision    recall  f1-score   support\n",
      "\n",
      "           0       0.94      0.63      0.76      1848\n",
      "           1       0.18      0.67      0.28       218\n",
      "\n",
      "    accuracy                           0.64      2066\n",
      "   macro avg       0.56      0.65      0.52      2066\n",
      "weighted avg       0.86      0.64      0.71      2066\n",
      "\n"
     ]
    }
   ],
   "source": [
    "print('XGBoost model - SMOTE')\n",
    "\n",
    "xgb_model = xgb.XGBClassifier(objective='binary:logistic', eval_metric=\"auc\")\n",
    "predicted_y = []\n",
    "expected_y = []\n",
    "\n",
    "xgb_model_SMOTE = xgb_model.fit(X_SMOTE, y_SMOTE, early_stopping_rounds=5, eval_set=[(X_test, y_test)])\n",
    "predictions =  xgb_model_SMOTE.predict(X_SMOTE)\n",
    "predicted_y.extend(predictions)\n",
    "expected_y.extend(y_SMOTE)\n",
    "report_train = classification_report(expected_y, predicted_y)\n",
    "print('training set')\n",
    "print(report_train) \n",
    "\n",
    "predicted_y = []\n",
    "expected_y = []\n",
    "predictions = xgb_model_SMOTE.predict(X_test)\n",
    "predicted_y.extend(predictions)\n",
    "expected_y.extend(y_test)\n",
    "report_test = classification_report(expected_y, predicted_y)\n",
    "print('test set')\n",
    "print(report_test)"
   ]
  },
  {
   "cell_type": "code",
   "execution_count": 117,
   "metadata": {},
   "outputs": [
    {
     "data": {
      "image/png": "[encoded data removed]",
      "text/plain": [
       "<Figure size 432x288 with 1 Axes>"
      ]
     },
     "metadata": {
      "needs_background": "light"
     },
     "output_type": "display_data"
    }
   ],
   "source": [
    "y_score_train = xgb_model_SMOTE.predict_proba(X_SMOTE)\n",
    "fpr_train, tpr_train, _ = roc_curve(y_SMOTE,  y_score_train[:,1])\n",
    "auc_train = roc_auc_score(y_SMOTE, y_score_train[:,1])\n",
    "plt.plot(fpr_train,tpr_train, color='red', label='SMOTE - train , auc='+str(auc_train))\n",
    "\n",
    "y_score_test = xgb_model_SMOTE.predict_proba(X_test.to_numpy())\n",
    "fpr_test, tpr_test, _ = roc_curve(y_test,  y_score_test[:,1])\n",
    "auc_test = roc_auc_score(y_test, y_score_test[:,1])\n",
    "plt.plot(fpr_test,tpr_test, color='Blue', label='SMOTE - test , auc='+str(auc_test))\n",
    "\n",
    "plt.plot([0, 1], [0, 1], color='navy', lw=2, linestyle='--')\n",
    "plt.legend(loc=4)\n",
    "plt.show()"
   ]
  },
  {
   "cell_type": "code",
   "execution_count": null,
   "metadata": {},
   "outputs": [],
   "source": []
  }
 ],
 "metadata": {
  "colab": {
   "authorship_tag": "ABX9TyPB/V7EnPAg5F7QOuHnmerW",
   "collapsed_sections": [
    "5ZKtUVUUXnTv",
    "uVsmfx7aYtmB",
    "F26FEqtAZ9hK",
    "pfCzlW-HbZNo",
    "MKLeuoi5c_t2",
    "QIxuTrNCita2",
    "BqiXugl6jIuz"
   ],
   "name": "Campaign Response Model.ipynb",
   "provenance": []
  },
  "kernelspec": {
   "display_name": "Python 3",
   "language": "python",
   "name": "python3"
  },
  "language_info": {
   "codemirror_mode": {
    "name": "ipython",
    "version": 3
   },
   "file_extension": ".py",
   "mimetype": "text/x-python",
   "name": "python",
   "nbconvert_exporter": "python",
   "pygments_lexer": "ipython3",
   "version": "3.7.6"
  }
 },
 "nbformat": 4,
 "nbformat_minor": 1
}
